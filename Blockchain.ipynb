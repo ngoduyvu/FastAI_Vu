{
 "cells": [
  {
   "cell_type": "markdown",
   "metadata": {},
   "source": [
    "# Implement Blockchain in Python"
   ]
  },
  {
   "cell_type": "markdown",
   "metadata": {},
   "source": [
    "## Simple Blockchain"
   ]
  },
  {
   "cell_type": "code",
   "execution_count": 1,
   "metadata": {},
   "outputs": [],
   "source": [
    "import hashlib as hasher\n",
    "import datetime as date"
   ]
  },
  {
   "cell_type": "code",
   "execution_count": 2,
   "metadata": {},
   "outputs": [],
   "source": [
    "# Build Object orientation program\n",
    "class Block:\n",
    "      def __init__(self, index, timestamp, data, previous_hash):\n",
    "        self.index = index\n",
    "        self.timestamp = timestamp\n",
    "        self.data = data\n",
    "        self.previous_hash = previous_hash\n",
    "        self.hash = self.hash_block()\n",
    "  \n",
    "      def hash_block(self):\n",
    "        sha = hasher.sha256()\n",
    "        sha.update(str(self.index).encode('utf-8') + str(self.timestamp).encode('utf-8') + str(self.data).encode('utf-8') + str(self.previous_hash).encode('utf-8'))\n",
    "        return sha.hexdigest()"
   ]
  },
  {
   "cell_type": "code",
   "execution_count": 3,
   "metadata": {},
   "outputs": [],
   "source": [
    "# Generate genesis block\n",
    "# Genesis block is the first block of the chain\n",
    "def create_genesis_block(data):\n",
    "    # Manually construct a block with\n",
    "    # index zero and arbitrary previous hash\n",
    "    return Block(0, date.datetime.now(), data, \"0\")"
   ]
  },
  {
   "cell_type": "code",
   "execution_count": 4,
   "metadata": {},
   "outputs": [],
   "source": [
    "# Generate all later blocks in the blockchain\n",
    "def next_block(last_block, data):\n",
    "    this_index = last_block.index + 1\n",
    "    this_timestamp = date.datetime.now()\n",
    "    this_data = data\n",
    "    this_hash = last_block.hash\n",
    "    return Block(this_index, this_timestamp, this_data, this_hash)"
   ]
  },
  {
   "cell_type": "code",
   "execution_count": 5,
   "metadata": {},
   "outputs": [],
   "source": [
    "# Create the blockchain and add the genesis block\n",
    "data = \"I am Ngo Duy Vu\"\n",
    "blockchain = [create_genesis_block(data)]\n",
    "previous_block = blockchain[0]\n",
    "\n",
    "# How many blocks should we add to the chain\n",
    "# after the genesis block\n",
    "num_of_blocks_to_add = 20"
   ]
  },
  {
   "cell_type": "code",
   "execution_count": 6,
   "metadata": {},
   "outputs": [
    {
     "name": "stdout",
     "output_type": "stream",
     "text": [
      "Block #1 has been added to the blockchain!\n",
      "Hash: a73fb168d09defee1c00753aaf7e5269a1bf5d14e997279de55b13ddf6ff37f3\n",
      "\n",
      "Block #2 has been added to the blockchain!\n",
      "Hash: 30bea882c59d4445700851782aec88567f51159d329ac843f8919264034251d4\n",
      "\n",
      "Block #3 has been added to the blockchain!\n",
      "Hash: 3b480cb5e5734fa04222c862901161254f807f3267df9dfdf583fb97dd92bd22\n",
      "\n",
      "Block #4 has been added to the blockchain!\n",
      "Hash: 2d0c5eeebd3459b439dec14d9054b69884e999b726e4ae8fbbec264d4e402c57\n",
      "\n",
      "Block #5 has been added to the blockchain!\n",
      "Hash: b97cfe92b96599a67556b38d4414c804c075d360da248ed29ede17b978ed2922\n",
      "\n",
      "Block #6 has been added to the blockchain!\n",
      "Hash: afbb8784dd92f2c0236ce7834a3cde9a71d6adec1eedd242e8dccdfbad1aa57f\n",
      "\n",
      "Block #7 has been added to the blockchain!\n",
      "Hash: acb482d87cd2930a7047651f91f5f38efd1b1d9b80f6ce9d5490f8c12afb9ac7\n",
      "\n",
      "Block #8 has been added to the blockchain!\n",
      "Hash: 2fbb1b4166fc932c2949f761618f3a887e942ae34b5d2ad29f1f630634d25427\n",
      "\n",
      "Block #9 has been added to the blockchain!\n",
      "Hash: 28fff0405c97ad460b4a4b8512330d230f4196b6ebe59f67db671e61d3c76390\n",
      "\n",
      "Block #10 has been added to the blockchain!\n",
      "Hash: 02d6c3f0d0ee34c6e21d3820ff1d376c364779d7fd719c39fed50798993005ed\n",
      "\n",
      "Block #11 has been added to the blockchain!\n",
      "Hash: 01d5f0caa8029c3c78d543fc2c3cf545acc6b352fc3245abc5010d7a42484838\n",
      "\n",
      "Block #12 has been added to the blockchain!\n",
      "Hash: 4d096ed58eb05c928564f478c7d05ec257c570d975b0b37adc1c6bc008262b7b\n",
      "\n",
      "Block #13 has been added to the blockchain!\n",
      "Hash: ce53b5a924b67cb608fc42b2f595014cdf3a5a7065f9546592d531ef3e7306c4\n",
      "\n",
      "Block #14 has been added to the blockchain!\n",
      "Hash: 56e3a1add158711527293c9fe2bf13ef74017cef3baf627ca2b66a353abbbef9\n",
      "\n",
      "Block #15 has been added to the blockchain!\n",
      "Hash: ee5b6921470c01784b0d1ad474a0e21596e8ffbe335ab81ff5e5e8e626f58c3b\n",
      "\n",
      "Block #16 has been added to the blockchain!\n",
      "Hash: 3c2d37c15f9f1678fee9cad15a32f200c18c8fc073c5cb6b1cb4cc90d7ff86e0\n",
      "\n",
      "Block #17 has been added to the blockchain!\n",
      "Hash: d6671f3ce0ec03245fca01ab2e84570fcf974d7f1cdd83cbc5e7d001b05cd235\n",
      "\n",
      "Block #18 has been added to the blockchain!\n",
      "Hash: e4c15582c160fc37aa5bb8ee44123bf26250a2d519f0abbc5fbe3dfe8c3233a7\n",
      "\n",
      "Block #19 has been added to the blockchain!\n",
      "Hash: f986f6d7795ac79c1c071e9c803df4a320daf8b4d2bf03082a3aed4c009b4551\n",
      "\n",
      "Block #20 has been added to the blockchain!\n",
      "Hash: 21972ebe0b3bc7256cae6b44b572cf9fde90e2f0abeceeb4da0f7a343785d42f\n",
      "\n"
     ]
    }
   ],
   "source": [
    "for i in range(0, num_of_blocks_to_add):\n",
    "    block_to_add = next_block(previous_block, data)\n",
    "    blockchain.append(block_to_add)\n",
    "    previous_block = block_to_add\n",
    "    # Tell everyone about it!\n",
    "    print(\"Block #{} has been added to the blockchain!\".format(block_to_add.index))\n",
    "    print(\"Hash: {}\\n\".format(block_to_add.hash)) "
   ]
  },
  {
   "cell_type": "code",
   "execution_count": 8,
   "metadata": {},
   "outputs": [
    {
     "name": "stdout",
     "output_type": "stream",
     "text": [
      "100\n",
      "a73fb168d09defee1c00753aaf7e5269a1bf5d14e997279de55b13ddf6ff37f3\n"
     ]
    }
   ],
   "source": [
    "blockchain[1].index = 100\n",
    "print(blockchain[1].index)\n",
    "print(blockchain[1].hash)"
   ]
  },
  {
   "cell_type": "code",
   "execution_count": 17,
   "metadata": {},
   "outputs": [],
   "source": [
    "Block_2 = Block(5, date.datetime.now(), data, \"4\")"
   ]
  },
  {
   "cell_type": "code",
   "execution_count": 19,
   "metadata": {},
   "outputs": [
    {
     "name": "stdout",
     "output_type": "stream",
     "text": [
      "I am Ngo Duy Vu\n"
     ]
    }
   ],
   "source": [
    "print(Block_2.data)\n",
    "print()"
   ]
  },
  {
   "cell_type": "code",
   "execution_count": 20,
   "metadata": {},
   "outputs": [
    {
     "name": "stdout",
     "output_type": "stream",
     "text": [
      "Vu\n"
     ]
    }
   ],
   "source": [
    "Block_2.data = 'Vu'\n",
    "print(Block_2.data)"
   ]
  },
  {
   "cell_type": "markdown",
   "metadata": {},
   "source": [
    "## More Complex Blockchain"
   ]
  },
  {
   "cell_type": "code",
   "execution_count": 1,
   "metadata": {},
   "outputs": [],
   "source": [
    "import hashlib as hasher\n",
    "import datetime as date"
   ]
  },
  {
   "cell_type": "code",
   "execution_count": 2,
   "metadata": {},
   "outputs": [],
   "source": [
    "# Create Class Block which Every Nodes will inherit from.\n",
    "class Block:\n",
    "    # Initialise all variable for each block\n",
    "    def __init__(self, index, data, proof_number, previous_hash, timestamp=None):\n",
    "        self.index = index\n",
    "        self.timestamp = date.datetime.now()\n",
    "        self.data = data\n",
    "        self.previous_hash = previous_hash\n",
    "        self.proof_number = proof_number\n",
    "        self.hash = self.hash_block()\n",
    "    \n",
    "    # Function Generating Hash for each Block\n",
    "    def hash_block(self):\n",
    "        sha = hasher.sha256()\n",
    "        sha.update(str(self.index).encode('utf-8') + str(self.timestamp).encode('utf-8') + str(self.data).encode('utf-8') + \n",
    "                   str(self.previous_hash).encode('utf-8'))\n",
    "        return sha.hexdigest()"
   ]
  },
  {
   "cell_type": "code",
   "execution_count": 23,
   "metadata": {},
   "outputs": [],
   "source": [
    "class BlockChain:\n",
    "    # Initialise all variable for the chain\n",
    "    def __init__(self):\n",
    "        self.chain = []\n",
    "        self.current_data = []\n",
    "        self.create_genesis_block()\n",
    "    \n",
    "    # Function creat the first block of the BlockChain \n",
    "    def create_genesis_block(self):\n",
    "        genesis_block = Block(0, self.current_data, 0, 0)\n",
    "        self.chain.append(genesis_block)\n",
    "        return genesis_block\n",
    "    \n",
    "    # Function creat block in the Blockchain\n",
    "    def create_next_block(self, proof_number, previous_hash):\n",
    "        block = Block(index=len(self.chain)-1, proof_number=proof_number,\n",
    "                     previous_hash=previous_hash,data=self.current_data)\n",
    "        self.chain.append(block)\n",
    "        # Check hash of a new Block created\n",
    "        print(\"Hash: {}\\n\".format(block.hash))\n",
    "        return block\n",
    "    \n",
    "    # Increase value proof until it sactisfied the proof of work function \n",
    "    def create_proof_of_work(self, previous_proof):\n",
    "        proof = previous_proof + 1\n",
    "        while not BlockChain.check_valid_proof(proof, previous_proof):\n",
    "            proof += 1\n",
    "        return proof    \n",
    "    \n",
    "    # Validate the new block and previous block\n",
    "    def validate_block(self, block, previous_block):\n",
    "        if (previous_block.index + 1) != block.index:\n",
    "            return False\n",
    "        elif previous_block.hash_block != block.previous_hash:\n",
    "            return False\n",
    "        elif block.timestamp <= previous_block.timestamp:\n",
    "            return False\n",
    "        return True\n",
    "    \n",
    "    # Function check proof of work\n",
    "    def check_valid_proof(self, proof, previous_proof):\n",
    "        if(proof-previous_proof+5)%8 == 0:\n",
    "            return true\n",
    "        return False\n",
    "    \n",
    "    # Function add data to current data variable\n",
    "    def get_data(self, data):\n",
    "        self.current_data.append(data)\n",
    "        return True\n",
    "    \n",
    "    # Function return the newest block in the chain\n",
    "    # this function need when we want to add block\n",
    "    def get_latest_block(self):\n",
    "        return self.chain[-1]"
   ]
  },
  {
   "cell_type": "code",
   "execution_count": 24,
   "metadata": {},
   "outputs": [],
   "source": [
    "blockchain = BlockChain()"
   ]
  },
  {
   "cell_type": "code",
   "execution_count": 27,
   "metadata": {},
   "outputs": [],
   "source": [
    "data = [\"I am Vu\", \"God is in the machine\", \"Glory to Science\", \"Reality is an illusion\"]"
   ]
  },
  {
   "cell_type": "code",
   "execution_count": 28,
   "metadata": {},
   "outputs": [
    {
     "name": "stdout",
     "output_type": "stream",
     "text": [
      "Loading data into blockchain\n",
      "Hash: 05b2c51f9fb6b635fbd6b80722a03ccb7703bd252dddb14e91e5c5fc036f80e2\n",
      "\n",
      "Loading data into blockchain\n",
      "Hash: 526f5797e18bb8681ee3740dedff10225d1e292a431b2e056140ff49a50cad16\n",
      "\n",
      "Loading data into blockchain\n",
      "Hash: 1ea8ac18f886c521fd2c7c49e0674c3fb466e770f76cdb1e2eefb002fa975619\n",
      "\n",
      "Loading data into blockchain\n",
      "Hash: cee02ac218c3c70d8f18c5d3f11a109e0ce5467817d7a1efaa8cfe8ff22be613\n",
      "\n"
     ]
    }
   ],
   "source": [
    "blockchain.create_genesis_block()\n",
    "for i in data:\n",
    "    if blockchain.get_data(i):\n",
    "        print(\"Loading data into blockchain\")\n",
    "        previous_block = blockchain.get_latest_block()\n",
    "        lastest_block = blockchain.create_next_block(previous_block.proof_number, previous_block.hash)\n",
    "        if blockchain.validate_block(lastest_block, previous_block):\n",
    "            print(\"success insert into blockchain\")\n",
    "        "
   ]
  },
  {
   "cell_type": "code",
   "execution_count": null,
   "metadata": {},
   "outputs": [],
   "source": []
  }
 ],
 "metadata": {
  "kernelspec": {
   "display_name": "Python 3",
   "language": "python",
   "name": "python3"
  },
  "language_info": {
   "codemirror_mode": {
    "name": "ipython",
    "version": 3
   },
   "file_extension": ".py",
   "mimetype": "text/x-python",
   "name": "python",
   "nbconvert_exporter": "python",
   "pygments_lexer": "ipython3",
   "version": "3.6.6"
  },
  "latex_envs": {
   "LaTeX_envs_menu_present": true,
   "autoclose": false,
   "autocomplete": true,
   "bibliofile": "biblio.bib",
   "cite_by": "apalike",
   "current_citInitial": 1,
   "eqLabelWithNumbers": true,
   "eqNumInitial": 1,
   "hotkeys": {
    "equation": "Ctrl-E",
    "itemize": "Ctrl-I"
   },
   "labels_anchors": false,
   "latex_user_defs": false,
   "report_style_numbering": false,
   "user_envs_cfg": false
  }
 },
 "nbformat": 4,
 "nbformat_minor": 2
}
