{
  "nbformat": 4,
  "nbformat_minor": 0,
  "metadata": {
    "colab": {
      "name": "RNN_Character_Level_RNN_Exercise.ipynb",
      "version": "0.3.2",
      "provenance": [],
      "toc_visible": true
    },
    "kernelspec": {
      "name": "python3",
      "display_name": "Python 3"
    },
    "accelerator": "GPU"
  },
  "cells": [
    {
      "metadata": {
        "id": "BV6fu8A_PCUQ",
        "colab_type": "text"
      },
      "cell_type": "markdown",
      "source": [
        "# Character-Level LSTM in PyTorch\n",
        "\n",
        "In this notebook, I'll construct a character-level LSTM with PyTorch. The network will train character by character on some text, then generate new text character by character. As an example, I will train on Anna Karenina. **This model will be able to generate new text based on the text from the book!**\n",
        "\n",
        "This network is based off of Andrej Karpathy's [post on RNNs](http://karpathy.github.io/2015/05/21/rnn-effectiveness/) and [implementation in Torch](https://github.com/karpathy/char-rnn). Below is the general architecture of the character-wise RNN.\n",
        "\n",
        "<img src=\"https://github.com/udacity/deep-learning-v2-pytorch/blob/master/recurrent-neural-networks/char-rnn/assets/charseq.jpeg?raw=1\" width=\"500\">"
      ]
    },
    {
      "metadata": {
        "id": "JkCy_N4DPCUT",
        "colab_type": "text"
      },
      "cell_type": "markdown",
      "source": [
        "First let's load in our required resources for data loading and model creation."
      ]
    },
    {
      "metadata": {
        "id": "6xte7P2w0_dD",
        "colab_type": "code",
        "colab": {
          "base_uri": "https://localhost:8080/",
          "height": 139
        },
        "outputId": "8d0216b5-1342-493c-f1e8-ca0e76f3b2c2"
      },
      "cell_type": "code",
      "source": [
        "!pip install torch"
      ],
      "execution_count": 1,
      "outputs": [
        {
          "output_type": "stream",
          "text": [
            "Collecting torch\n",
            "\u001b[?25l  Downloading https://files.pythonhosted.org/packages/7e/60/66415660aa46b23b5e1b72bc762e816736ce8d7260213e22365af51e8f9c/torch-1.0.0-cp36-cp36m-manylinux1_x86_64.whl (591.8MB)\n",
            "\u001b[K    100% |████████████████████████████████| 591.8MB 31kB/s \n",
            "tcmalloc: large alloc 1073750016 bytes == 0x62654000 @  0x7f40579d42a4 0x591a07 0x5b5d56 0x502e9a 0x506859 0x502209 0x502f3d 0x506859 0x504c28 0x502540 0x502f3d 0x506859 0x504c28 0x502540 0x502f3d 0x506859 0x504c28 0x502540 0x502f3d 0x507641 0x502209 0x502f3d 0x506859 0x504c28 0x502540 0x502f3d 0x507641 0x504c28 0x502540 0x502f3d 0x507641\n",
            "\u001b[?25hInstalling collected packages: torch\n",
            "Successfully installed torch-1.0.0\n"
          ],
          "name": "stdout"
        }
      ]
    },
    {
      "metadata": {
        "id": "1tXoUlwh1ab2",
        "colab_type": "code",
        "colab": {
          "base_uri": "https://localhost:8080/",
          "height": 153
        },
        "outputId": "87b776d7-46dc-409c-ea31-1d8cc1cc00a2"
      },
      "cell_type": "code",
      "source": [
        "!git clone https://github.com/udacity/deep-learning-v2-pytorch.git"
      ],
      "execution_count": 2,
      "outputs": [
        {
          "output_type": "stream",
          "text": [
            "Cloning into 'deep-learning-v2-pytorch'...\n",
            "remote: Enumerating objects: 4, done.\u001b[K\n",
            "remote: Counting objects: 100% (4/4), done.\u001b[K\n",
            "remote: Compressing objects: 100% (4/4), done.\u001b[K\n",
            "remote: Total 803 (delta 0), reused 2 (delta 0), pack-reused 799\u001b[K\n",
            "Receiving objects: 100% (803/803), 126.05 MiB | 24.45 MiB/s, done.\n",
            "Resolving deltas: 100% (290/290), done.\n",
            "Checking out files: 100% (270/270), done.\n"
          ],
          "name": "stdout"
        }
      ]
    },
    {
      "metadata": {
        "id": "7ohmVHGk11zn",
        "colab_type": "code",
        "colab": {
          "base_uri": "https://localhost:8080/",
          "height": 34
        },
        "outputId": "d0a3e264-8c56-42cd-8b19-c705536dbea4"
      },
      "cell_type": "code",
      "source": [
        "cd deep-learning-v2-pytorch/recurrent-neural-networks/char-rnn/"
      ],
      "execution_count": 3,
      "outputs": [
        {
          "output_type": "stream",
          "text": [
            "/content/deep-learning-v2-pytorch/recurrent-neural-networks/char-rnn\n"
          ],
          "name": "stdout"
        }
      ]
    },
    {
      "metadata": {
        "id": "YemsZwLKPCUU",
        "colab_type": "code",
        "colab": {}
      },
      "cell_type": "code",
      "source": [
        "import numpy as np\n",
        "import torch\n",
        "from torch import nn\n",
        "import torch.nn.functional as F"
      ],
      "execution_count": 0,
      "outputs": []
    },
    {
      "metadata": {
        "id": "LQyN1moxPCUa",
        "colab_type": "text"
      },
      "cell_type": "markdown",
      "source": [
        "## Load in Data\n",
        "\n",
        "Then, we'll load the Anna Karenina text file and convert it into integers for our network to use. "
      ]
    },
    {
      "metadata": {
        "id": "0DWPYYWoPCUb",
        "colab_type": "code",
        "colab": {}
      },
      "cell_type": "code",
      "source": [
        "# open text file and read in data as `text`\n",
        "with open('data/anna.txt', 'r') as f:\n",
        "    text = f.read()"
      ],
      "execution_count": 0,
      "outputs": []
    },
    {
      "metadata": {
        "id": "O3RlxXaUPCUe",
        "colab_type": "text"
      },
      "cell_type": "markdown",
      "source": [
        "Let's check out the first 100 characters, make sure everything is peachy. According to the [American Book Review](http://americanbookreview.org/100bestlines.asp), this is the 6th best first line of a book ever."
      ]
    },
    {
      "metadata": {
        "id": "FICC52J3PCUf",
        "colab_type": "code",
        "colab": {
          "base_uri": "https://localhost:8080/",
          "height": 54
        },
        "outputId": "9e435dce-b62c-4977-86de-7ac44f38abf9"
      },
      "cell_type": "code",
      "source": [
        "text[:100]"
      ],
      "execution_count": 6,
      "outputs": [
        {
          "output_type": "execute_result",
          "data": {
            "text/plain": [
              "'Chapter 1\\n\\n\\nHappy families are all alike; every unhappy family is unhappy in its own\\nway.\\n\\nEverythin'"
            ]
          },
          "metadata": {
            "tags": []
          },
          "execution_count": 6
        }
      ]
    },
    {
      "metadata": {
        "id": "w-4wbjrTPCUi",
        "colab_type": "text"
      },
      "cell_type": "markdown",
      "source": [
        "### Tokenization\n",
        "\n",
        "In the cells, below, I'm creating a couple **dictionaries** to convert the characters to and from integers. Encoding the characters as integers makes it easier to use as input in the network."
      ]
    },
    {
      "metadata": {
        "id": "v5MLxYZnPCUj",
        "colab_type": "code",
        "colab": {}
      },
      "cell_type": "code",
      "source": [
        "# encode the text and map each character to an integer and vice versa\n",
        "\n",
        "# we create two dictionaries:\n",
        "# 1. int2char, which maps integers to characters\n",
        "# 2. char2int, which maps characters to unique integers\n",
        "chars = tuple(set(text))\n",
        "int2char = dict(enumerate(chars))\n",
        "char2int = {ch: ii for ii, ch in int2char.items()}\n",
        "\n",
        "# encode the text\n",
        "encoded = np.array([char2int[ch] for ch in text])"
      ],
      "execution_count": 0,
      "outputs": []
    },
    {
      "metadata": {
        "id": "8nwMxbUbPCUm",
        "colab_type": "text"
      },
      "cell_type": "markdown",
      "source": [
        "And we can see those same characters from above, encoded as integers."
      ]
    },
    {
      "metadata": {
        "id": "SdYbFwWBPCUo",
        "colab_type": "code",
        "colab": {
          "base_uri": "https://localhost:8080/",
          "height": 119
        },
        "outputId": "85264e9a-6195-45c7-cc52-e624afe1d33b"
      },
      "cell_type": "code",
      "source": [
        "encoded[:100]"
      ],
      "execution_count": 8,
      "outputs": [
        {
          "output_type": "execute_result",
          "data": {
            "text/plain": [
              "array([52, 15, 19, 58, 70, 38, 45, 48,  3,  4,  4,  4, 56, 19, 58, 58, 27,\n",
              "       48,  7, 19, 63, 28, 73, 28, 38, 32, 48, 19, 45, 38, 48, 19, 73, 73,\n",
              "       48, 19, 73, 28,  9, 38, 41, 48, 38, 26, 38, 45, 27, 48,  6, 42, 15,\n",
              "       19, 58, 58, 27, 48,  7, 19, 63, 28, 73, 27, 48, 28, 32, 48,  6, 42,\n",
              "       15, 19, 58, 58, 27, 48, 28, 42, 48, 28, 70, 32, 48, 46, 71, 42,  4,\n",
              "       71, 19, 27, 59,  4,  4, 22, 26, 38, 45, 27, 70, 15, 28, 42])"
            ]
          },
          "metadata": {
            "tags": []
          },
          "execution_count": 8
        }
      ]
    },
    {
      "metadata": {
        "id": "A1yPu1HSPCUt",
        "colab_type": "text"
      },
      "cell_type": "markdown",
      "source": [
        "## Pre-processing the data\n",
        "\n",
        "As you can see in our char-RNN image above, our LSTM expects an input that is **one-hot encoded** meaning that each character is converted into an integer (via our created dictionary) and *then* converted into a column vector where only it's corresponding integer index will have the value of 1 and the rest of the vector will be filled with 0's. Since we're one-hot encoding the data, let's make a function to do that!\n"
      ]
    },
    {
      "metadata": {
        "id": "MPeH8ek7PCUv",
        "colab_type": "code",
        "colab": {}
      },
      "cell_type": "code",
      "source": [
        "def one_hot_encode(arr, n_labels):\n",
        "    \n",
        "    # Initialize the the encoded array\n",
        "    one_hot = np.zeros((np.multiply(*arr.shape), n_labels), dtype=np.float32)\n",
        "    \n",
        "    # Fill the appropriate elements with ones\n",
        "    one_hot[np.arange(one_hot.shape[0]), arr.flatten()] = 1.\n",
        "    \n",
        "    # Finally reshape it to get back to the original array\n",
        "    one_hot = one_hot.reshape((*arr.shape, n_labels))\n",
        "    \n",
        "    return one_hot"
      ],
      "execution_count": 0,
      "outputs": []
    },
    {
      "metadata": {
        "id": "H-GG-rBIPCUy",
        "colab_type": "code",
        "colab": {
          "base_uri": "https://localhost:8080/",
          "height": 68
        },
        "outputId": "3d6792ea-1a49-4c6b-c802-b45963152e1b"
      },
      "cell_type": "code",
      "source": [
        "# check that the function works as expected\n",
        "test_seq = np.array([[3, 5, 1]])\n",
        "one_hot = one_hot_encode(test_seq, 8)\n",
        "\n",
        "print(one_hot)"
      ],
      "execution_count": 10,
      "outputs": [
        {
          "output_type": "stream",
          "text": [
            "[[[0. 0. 0. 1. 0. 0. 0. 0.]\n",
            "  [0. 0. 0. 0. 0. 1. 0. 0.]\n",
            "  [0. 1. 0. 0. 0. 0. 0. 0.]]]\n"
          ],
          "name": "stdout"
        }
      ]
    },
    {
      "metadata": {
        "id": "W8RASb7NPCU2",
        "colab_type": "text"
      },
      "cell_type": "markdown",
      "source": [
        "## Making training mini-batches\n",
        "\n",
        "\n",
        "To train on this data, we also want to create mini-batches for training. Remember that we want our batches to be multiple sequences of some desired number of sequence steps. Considering a simple example, our batches would look like this:\n",
        "\n",
        "<img src=\"https://github.com/udacity/deep-learning-v2-pytorch/blob/master/recurrent-neural-networks/char-rnn/assets/sequence_batching@1x.png?raw=1\" width=500px>\n",
        "\n",
        "\n",
        "<br>\n",
        "\n",
        "In this example, we'll take the encoded characters (passed in as the `arr` parameter) and split them into multiple sequences, given by `batch_size`. Each of our sequences will be `seq_length` long.\n",
        "\n",
        "### Creating Batches\n",
        "\n",
        "**1. The first thing we need to do is discard some of the text so we only have completely full mini-batches. **\n",
        "\n",
        "Each batch contains $N \\times M$ characters, where $N$ is the batch size (the number of sequences in a batch) and $M$ is the seq_length or number of time steps in a sequence. Then, to get the total number of batches, $K$, that we can make from the array `arr`, you divide the length of `arr` by the number of characters per batch. Once you know the number of batches, you can get the total number of characters to keep from `arr`, $N * M * K$.\n",
        "\n",
        "**2. After that, we need to split `arr` into $N$ batches. ** \n",
        "\n",
        "You can do this using `arr.reshape(size)` where `size` is a tuple containing the dimensions sizes of the reshaped array. We know we want $N$ sequences in a batch, so let's make that the size of the first dimension. For the second dimension, you can use `-1` as a placeholder in the size, it'll fill up the array with the appropriate data for you. After this, you should have an array that is $N \\times (M * K)$.\n",
        "\n",
        "**3. Now that we have this array, we can iterate through it to get our mini-batches. **\n",
        "\n",
        "The idea is each batch is a $N \\times M$ window on the $N \\times (M * K)$ array. For each subsequent batch, the window moves over by `seq_length`. We also want to create both the input and target arrays. Remember that the targets are just the inputs shifted over by one character. The way I like to do this window is use `range` to take steps of size `n_steps` from $0$ to `arr.shape[1]`, the total number of tokens in each sequence. That way, the integers you get from `range` always point to the start of a batch, and each window is `seq_length` wide.\n",
        "\n",
        "> **TODO:** Write the code for creating batches in the function below. The exercises in this notebook _will not be easy_. I've provided a notebook with solutions alongside this notebook. If you get stuck, checkout the solutions. The most important thing is that you don't copy and paste the code into here, **type out the solution code yourself.**"
      ]
    },
    {
      "metadata": {
        "id": "o7scutUPPCU3",
        "colab_type": "code",
        "colab": {}
      },
      "cell_type": "code",
      "source": [
        "def get_batches(arr, batch_size, seq_length):\n",
        "    '''Create a generator that returns batches of size\n",
        "       batch_size x seq_length from arr.\n",
        "       \n",
        "       Arguments\n",
        "       ---------\n",
        "       arr: Array you want to make batches from\n",
        "       batch_size: Batch size, the number of sequences per batch\n",
        "       seq_length: Number of encoded chars in a sequence\n",
        "    '''\n",
        "    \n",
        "    batch_size_total = batch_size * seq_length\n",
        "    ## TODO: Get the number of batches we can make\n",
        "    n_batches = len(arr)//batch_size_total\n",
        "    \n",
        "    ## TODO: Keep only enough characters to make full batches\n",
        "    arr = arr[:n_batches * batch_size_total]\n",
        "    \n",
        "    ## TODO: Reshape into batch_size rows\n",
        "    arr = arr.reshape((batch_size, -1))\n",
        "    \n",
        "    ## TODO: Iterate over the batches using a window of size seq_length\n",
        "    for n in range(0, arr.shape[1], seq_length):\n",
        "        # The features\n",
        "        x = arr[:, n:n+seq_length]\n",
        "        # The targets, shifted by one\n",
        "        y = np.zeros_like(x)\n",
        "        try:\n",
        "            y[:, :-1], y[:, -1] = x[:, 1:], arr[:, n+seq_length]\n",
        "        except IndexError:\n",
        "            y[:, :-1], y[:, -1] = x[:, 1:], arr[:, 0]\n",
        "        yield x, y"
      ],
      "execution_count": 0,
      "outputs": []
    },
    {
      "metadata": {
        "id": "FHtDPmLxPCU7",
        "colab_type": "text"
      },
      "cell_type": "markdown",
      "source": [
        "### Test Your Implementation\n",
        "\n",
        "Now I'll make some data sets and we can check out what's going on as we batch data. Here, as an example, I'm going to use a batch size of 8 and 50 sequence steps."
      ]
    },
    {
      "metadata": {
        "id": "o1nXhe8wPCU7",
        "colab_type": "code",
        "colab": {}
      },
      "cell_type": "code",
      "source": [
        "batches = get_batches(encoded, 8, 50)\n",
        "x, y = next(batches)"
      ],
      "execution_count": 0,
      "outputs": []
    },
    {
      "metadata": {
        "id": "fdkoCRb_PCU-",
        "colab_type": "code",
        "colab": {
          "base_uri": "https://localhost:8080/",
          "height": 340
        },
        "outputId": "98c97159-79e9-47b9-931c-35b83ec3bf5e"
      },
      "cell_type": "code",
      "source": [
        "# printing out the first 10 items in a sequence\n",
        "print('x\\n', x[:10, :10])\n",
        "print('\\ny\\n', y[:10, :10])"
      ],
      "execution_count": 13,
      "outputs": [
        {
          "output_type": "stream",
          "text": [
            "x\n",
            " [[52 15 19 58 70 38 45 48  3  4]\n",
            " [32 46 42 48 70 15 19 70 48 19]\n",
            " [38 42 61 48 46 45 48 19 48  7]\n",
            " [32 48 70 15 38 48 21 15 28 38]\n",
            " [48 32 19 71 48 15 38 45 48 70]\n",
            " [21  6 32 32 28 46 42 48 19 42]\n",
            " [48 29 42 42 19 48 15 19 61 48]\n",
            " [64 24 73 46 42 32  9 27 59 48]]\n",
            "\n",
            "y\n",
            " [[15 19 58 70 38 45 48  3  4  4]\n",
            " [46 42 48 70 15 19 70 48 19 70]\n",
            " [42 61 48 46 45 48 19 48  7 46]\n",
            " [48 70 15 38 48 21 15 28 38  7]\n",
            " [32 19 71 48 15 38 45 48 70 38]\n",
            " [ 6 32 32 28 46 42 48 19 42 61]\n",
            " [29 42 42 19 48 15 19 61 48 32]\n",
            " [24 73 46 42 32  9 27 59 48 78]]\n"
          ],
          "name": "stdout"
        }
      ]
    },
    {
      "metadata": {
        "id": "Rc9zRbS5PCVA",
        "colab_type": "text"
      },
      "cell_type": "markdown",
      "source": [
        "If you implemented `get_batches` correctly, the above output should look something like \n",
        "```\n",
        "x\n",
        " [[25  8 60 11 45 27 28 73  1  2]\n",
        " [17  7 20 73 45  8 60 45 73 60]\n",
        " [27 20 80 73  7 28 73 60 73 65]\n",
        " [17 73 45  8 27 73 66  8 46 27]\n",
        " [73 17 60 12 73  8 27 28 73 45]\n",
        " [66 64 17 17 46  7 20 73 60 20]\n",
        " [73 76 20 20 60 73  8 60 80 73]\n",
        " [47 35 43  7 20 17 24 50 37 73]]\n",
        "\n",
        "y\n",
        " [[ 8 60 11 45 27 28 73  1  2  2]\n",
        " [ 7 20 73 45  8 60 45 73 60 45]\n",
        " [20 80 73  7 28 73 60 73 65  7]\n",
        " [73 45  8 27 73 66  8 46 27 65]\n",
        " [17 60 12 73  8 27 28 73 45 27]\n",
        " [64 17 17 46  7 20 73 60 20 80]\n",
        " [76 20 20 60 73  8 60 80 73 17]\n",
        " [35 43  7 20 17 24 50 37 73 36]]\n",
        " ```\n",
        " although the exact numbers may be different. Check to make sure the data is shifted over one step for `y`."
      ]
    },
    {
      "metadata": {
        "id": "5RFYtyNmPCVB",
        "colab_type": "text"
      },
      "cell_type": "markdown",
      "source": [
        "---\n",
        "## Defining the network with PyTorch\n",
        "\n",
        "Below is where you'll define the network.\n",
        "\n",
        "<img src=\"https://github.com/udacity/deep-learning-v2-pytorch/blob/master/recurrent-neural-networks/char-rnn/assets/charRNN.png?raw=1\" width=500px>\n",
        "\n",
        "Next, you'll use PyTorch to define the architecture of the network. We start by defining the layers and operations we want. Then, define a method for the forward pass. You've also been given a method for predicting characters."
      ]
    },
    {
      "metadata": {
        "id": "wv0Xr6BHPCVC",
        "colab_type": "text"
      },
      "cell_type": "markdown",
      "source": [
        "### Model Structure\n",
        "\n",
        "In `__init__` the suggested structure is as follows:\n",
        "* Create and store the necessary dictionaries (this has been done for you)\n",
        "* Define an LSTM layer that takes as params: an input size (the number of characters), a hidden layer size `n_hidden`, a number of layers `n_layers`, a dropout probability `drop_prob`, and a batch_first boolean (True, since we are batching)\n",
        "* Define a dropout layer with `dropout_prob`\n",
        "* Define a fully-connected layer with params: input size `n_hidden` and output size (the number of characters)\n",
        "* Finally, initialize the weights (again, this has been given)\n",
        "\n",
        "Note that some parameters have been named and given in the `__init__` function, and we use them and store them by doing something like `self.drop_prob = drop_prob`."
      ]
    },
    {
      "metadata": {
        "id": "E899b79uPCVD",
        "colab_type": "text"
      },
      "cell_type": "markdown",
      "source": [
        "---\n",
        "### LSTM Inputs/Outputs\n",
        "\n",
        "You can create a basic [LSTM layer](https://pytorch.org/docs/stable/nn.html#lstm) as follows\n",
        "\n",
        "```python\n",
        "self.lstm = nn.LSTM(input_size, n_hidden, n_layers, \n",
        "                            dropout=drop_prob, batch_first=True)\n",
        "```\n",
        "\n",
        "where `input_size` is the number of characters this cell expects to see as sequential input, and `n_hidden` is the number of units in the hidden layers in the cell. And we can add dropout by adding a dropout parameter with a specified probability; this will automatically add dropout to the inputs or outputs. Finally, in the `forward` function, we can stack up the LSTM cells into layers using `.view`. With this, you pass in a list of cells and it will send the output of one cell into the next cell.\n",
        "\n",
        "We also need to create an initial hidden state of all zeros. This is done like so\n",
        "\n",
        "```python\n",
        "self.init_hidden()\n",
        "```"
      ]
    },
    {
      "metadata": {
        "id": "IB1WvMz1PCVD",
        "colab_type": "code",
        "colab": {
          "base_uri": "https://localhost:8080/",
          "height": 34
        },
        "outputId": "47eed1bf-8603-4c8e-daf8-98fad7fced27"
      },
      "cell_type": "code",
      "source": [
        "# check if GPU is available\n",
        "train_on_gpu = torch.cuda.is_available()\n",
        "if(train_on_gpu):\n",
        "    print('Training on GPU!')\n",
        "else: \n",
        "    print('No GPU available, training on CPU; consider making n_epochs very small.')"
      ],
      "execution_count": 14,
      "outputs": [
        {
          "output_type": "stream",
          "text": [
            "Training on GPU!\n"
          ],
          "name": "stdout"
        }
      ]
    },
    {
      "metadata": {
        "id": "RpzQGWqpPCVH",
        "colab_type": "code",
        "colab": {}
      },
      "cell_type": "code",
      "source": [
        "class CharRNN(nn.Module):\n",
        "    \n",
        "    def __init__(self, tokens, n_hidden=256, n_layers=2,\n",
        "                               drop_prob=0.5, lr=0.001):\n",
        "        super().__init__()\n",
        "        self.drop_prob = drop_prob\n",
        "        self.n_layers = n_layers\n",
        "        self.n_hidden = n_hidden\n",
        "        self.lr = lr\n",
        "        \n",
        "        # creating character dictionaries\n",
        "        self.chars = tokens\n",
        "        self.int2char = dict(enumerate(self.chars))\n",
        "        self.char2int = {ch: ii for ii, ch in self.int2char.items()}\n",
        "        \n",
        "        ## TODO: define the layers of the model\n",
        "        self.lstm = nn.LSTM(len(self.chars), n_hidden, n_layers, \n",
        "                            dropout=drop_prob, batch_first=True)\n",
        "        \n",
        "        ## TODO: define a dropout layer\n",
        "        self.dropout = nn.Dropout(drop_prob)\n",
        "        \n",
        "        ## TODO: define the final, fully-connected output layer\n",
        "        self.fc = nn.Linear(n_hidden, len(self.chars))\n",
        "        \n",
        "    \n",
        "    def forward(self, x, hidden):\n",
        "        ''' Forward pass through the network. \n",
        "            These inputs are x, and the hidden/cell state `hidden`. '''\n",
        "                \n",
        "        ## TODO: Get the outputs and the new hidden state from the lstm\n",
        "        r_output, hidden = self.lstm(x, hidden)\n",
        "        \n",
        "        ## TODO: pass through a dropout layer\n",
        "        out = self.dropout(r_output)\n",
        "        \n",
        "        # Stack up LSTM outputs using view\n",
        "        # you may need to use contiguous to reshape the output\n",
        "        out = out.contiguous().view(-1, self.n_hidden)\n",
        "        \n",
        "        ## TODO: put x through the fully-connected layer\n",
        "        out = self.fc(out)        \n",
        "        # return the final output and the hidden state\n",
        "        return out, hidden\n",
        "    \n",
        "    \n",
        "    def init_hidden(self, batch_size):\n",
        "        ''' Initializes hidden state '''\n",
        "        # Create two new tensors with sizes n_layers x batch_size x n_hidden,\n",
        "        # initialized to zero, for hidden state and cell state of LSTM\n",
        "        weight = next(self.parameters()).data\n",
        "        \n",
        "        if (train_on_gpu):\n",
        "            hidden = (weight.new(self.n_layers, batch_size, self.n_hidden).zero_().cuda(),\n",
        "                  weight.new(self.n_layers, batch_size, self.n_hidden).zero_().cuda())\n",
        "        else:\n",
        "            hidden = (weight.new(self.n_layers, batch_size, self.n_hidden).zero_(),\n",
        "                      weight.new(self.n_layers, batch_size, self.n_hidden).zero_())\n",
        "        \n",
        "        return hidden\n",
        "        "
      ],
      "execution_count": 0,
      "outputs": []
    },
    {
      "metadata": {
        "id": "xxe5PG05PCVM",
        "colab_type": "text"
      },
      "cell_type": "markdown",
      "source": [
        "## Time to train\n",
        "\n",
        "The train function gives us the ability to set the number of epochs, the learning rate, and other parameters.\n",
        "\n",
        "Below we're using an Adam optimizer and cross entropy loss since we are looking at character class scores as output. We calculate the loss and perform backpropagation, as usual!\n",
        "\n",
        "A couple of details about training: \n",
        ">* Within the batch loop, we detach the hidden state from its history; this time setting it equal to a new *tuple* variable because an LSTM has a hidden state that is a tuple of the hidden and cell states.\n",
        "* We use [`clip_grad_norm_`](https://pytorch.org/docs/stable/_modules/torch/nn/utils/clip_grad.html) to help prevent exploding gradients."
      ]
    },
    {
      "metadata": {
        "id": "ojvgd39aPCVN",
        "colab_type": "code",
        "colab": {}
      },
      "cell_type": "code",
      "source": [
        "def train(net, data, epochs=10, batch_size=10, seq_length=50, lr=0.001, clip=5, val_frac=0.1, print_every=10):\n",
        "    ''' Training a network \n",
        "    \n",
        "        Arguments\n",
        "        ---------\n",
        "        \n",
        "        net: CharRNN network\n",
        "        data: text data to train the network\n",
        "        epochs: Number of epochs to train\n",
        "        batch_size: Number of mini-sequences per mini-batch, aka batch size\n",
        "        seq_length: Number of character steps per mini-batch\n",
        "        lr: learning rate\n",
        "        clip: gradient clipping\n",
        "        val_frac: Fraction of data to hold out for validation\n",
        "        print_every: Number of steps for printing training and validation loss\n",
        "    \n",
        "    '''\n",
        "    net.train()\n",
        "    \n",
        "    opt = torch.optim.Adam(net.parameters(), lr=lr)\n",
        "    criterion = nn.CrossEntropyLoss()\n",
        "    \n",
        "    # create training and validation data\n",
        "    val_idx = int(len(data)*(1-val_frac))\n",
        "    data, val_data = data[:val_idx], data[val_idx:]\n",
        "    \n",
        "    if(train_on_gpu):\n",
        "        net.cuda()\n",
        "    \n",
        "    counter = 0\n",
        "    n_chars = len(net.chars)\n",
        "    for e in range(epochs):\n",
        "        # initialize hidden state\n",
        "        h = net.init_hidden(batch_size)\n",
        "        \n",
        "        for x, y in get_batches(data, batch_size, seq_length):\n",
        "            counter += 1\n",
        "            \n",
        "            # One-hot encode our data and make them Torch tensors\n",
        "            x = one_hot_encode(x, n_chars)\n",
        "            inputs, targets = torch.from_numpy(x), torch.from_numpy(y)\n",
        "            \n",
        "            if(train_on_gpu):\n",
        "                inputs, targets = inputs.cuda(), targets.cuda()\n",
        "\n",
        "            # Creating new variables for the hidden state, otherwise\n",
        "            # we'd backprop through the entire training history\n",
        "            h = tuple([each.data for each in h])\n",
        "\n",
        "            # zero accumulated gradients\n",
        "            net.zero_grad()\n",
        "            \n",
        "            # get the output from the model\n",
        "            output, h = net(inputs, h)\n",
        "            \n",
        "            # calculate the loss and perform backprop\n",
        "            loss = criterion(output, targets.view(batch_size*seq_length))\n",
        "            loss.backward()\n",
        "            # `clip_grad_norm` helps prevent the exploding gradient problem in RNNs / LSTMs.\n",
        "            nn.utils.clip_grad_norm_(net.parameters(), clip)\n",
        "            opt.step()\n",
        "            \n",
        "            # loss stats\n",
        "            if counter % print_every == 0:\n",
        "                # Get validation loss\n",
        "                val_h = net.init_hidden(batch_size)\n",
        "                val_losses = []\n",
        "                net.eval()\n",
        "                for x, y in get_batches(val_data, batch_size, seq_length):\n",
        "                    # One-hot encode our data and make them Torch tensors\n",
        "                    x = one_hot_encode(x, n_chars)\n",
        "                    x, y = torch.from_numpy(x), torch.from_numpy(y)\n",
        "                    \n",
        "                    # Creating new variables for the hidden state, otherwise\n",
        "                    # we'd backprop through the entire training history\n",
        "                    val_h = tuple([each.data for each in val_h])\n",
        "                    \n",
        "                    inputs, targets = x, y\n",
        "                    if(train_on_gpu):\n",
        "                        inputs, targets = inputs.cuda(), targets.cuda()\n",
        "\n",
        "                    output, val_h = net(inputs, val_h)\n",
        "                    val_loss = criterion(output, targets.view(batch_size*seq_length))\n",
        "                \n",
        "                    val_losses.append(val_loss.item())\n",
        "                \n",
        "                net.train() # reset to train mode after iterationg through validation data\n",
        "                \n",
        "                print(\"Epoch: {}/{}...\".format(e+1, epochs),\n",
        "                      \"Step: {}...\".format(counter),\n",
        "                      \"Loss: {:.4f}...\".format(loss.item()),\n",
        "                      \"Val Loss: {:.4f}\".format(np.mean(val_losses)))"
      ],
      "execution_count": 0,
      "outputs": []
    },
    {
      "metadata": {
        "id": "8eWcVWDaPCVR",
        "colab_type": "text"
      },
      "cell_type": "markdown",
      "source": [
        "## Instantiating the model\n",
        "\n",
        "Now we can actually train the network. First we'll create the network itself, with some given hyperparameters. Then, define the mini-batches sizes, and start training!"
      ]
    },
    {
      "metadata": {
        "id": "UbtLUZrUPCVT",
        "colab_type": "code",
        "colab": {
          "base_uri": "https://localhost:8080/",
          "height": 102
        },
        "outputId": "8efb1b67-86aa-47a6-816e-571595df6a53"
      },
      "cell_type": "code",
      "source": [
        "## TODO: set you model hyperparameters\n",
        "# define and print the net\n",
        "n_hidden=512\n",
        "n_layers=2\n",
        "\n",
        "net = CharRNN(chars, n_hidden, n_layers)\n",
        "print(net)"
      ],
      "execution_count": 25,
      "outputs": [
        {
          "output_type": "stream",
          "text": [
            "CharRNN(\n",
            "  (lstm): LSTM(83, 512, num_layers=2, batch_first=True, dropout=0.5)\n",
            "  (dropout): Dropout(p=0.5)\n",
            "  (fc): Linear(in_features=512, out_features=83, bias=True)\n",
            ")\n"
          ],
          "name": "stdout"
        }
      ]
    },
    {
      "metadata": {
        "id": "lJLgXFEsPCVY",
        "colab_type": "text"
      },
      "cell_type": "markdown",
      "source": [
        "### Set your training hyperparameters!"
      ]
    },
    {
      "metadata": {
        "scrolled": true,
        "id": "6T60LTP5PCVZ",
        "colab_type": "code",
        "colab": {
          "base_uri": "https://localhost:8080/",
          "height": 4743
        },
        "outputId": "0f7fd4d7-7ae1-4122-81ba-9246d6ad4a18"
      },
      "cell_type": "code",
      "source": [
        "batch_size = 128\n",
        "seq_length = 100\n",
        "n_epochs = 20 # start small if you are just testing initial behavior\n",
        "\n",
        "# train the model\n",
        "train(net, encoded, epochs=n_epochs, batch_size=batch_size, seq_length=seq_length, lr=0.001, print_every=10)"
      ],
      "execution_count": 26,
      "outputs": [
        {
          "output_type": "stream",
          "text": [
            "Epoch: 1/20... Step: 10... Loss: 3.2700... Val Loss: 3.2272\n",
            "Epoch: 1/20... Step: 20... Loss: 3.1379... Val Loss: 3.1381\n",
            "Epoch: 1/20... Step: 30... Loss: 3.1414... Val Loss: 3.1236\n",
            "Epoch: 1/20... Step: 40... Loss: 3.1127... Val Loss: 3.1182\n",
            "Epoch: 1/20... Step: 50... Loss: 3.1429... Val Loss: 3.1178\n",
            "Epoch: 1/20... Step: 60... Loss: 3.1195... Val Loss: 3.1162\n",
            "Epoch: 1/20... Step: 70... Loss: 3.1101... Val Loss: 3.1155\n",
            "Epoch: 1/20... Step: 80... Loss: 3.1217... Val Loss: 3.1131\n",
            "Epoch: 1/20... Step: 90... Loss: 3.1222... Val Loss: 3.1079\n",
            "Epoch: 1/20... Step: 100... Loss: 3.1047... Val Loss: 3.0954\n",
            "Epoch: 1/20... Step: 110... Loss: 3.0853... Val Loss: 3.0709\n",
            "Epoch: 1/20... Step: 120... Loss: 3.0146... Val Loss: 3.0087\n",
            "Epoch: 1/20... Step: 130... Loss: 2.9345... Val Loss: 2.9363\n",
            "Epoch: 2/20... Step: 140... Loss: 2.8744... Val Loss: 2.8374\n",
            "Epoch: 2/20... Step: 150... Loss: 2.7376... Val Loss: 2.6952\n",
            "Epoch: 2/20... Step: 160... Loss: 2.6255... Val Loss: 2.5902\n",
            "Epoch: 2/20... Step: 170... Loss: 2.5490... Val Loss: 2.5342\n",
            "Epoch: 2/20... Step: 180... Loss: 2.5043... Val Loss: 2.4781\n",
            "Epoch: 2/20... Step: 190... Loss: 2.4457... Val Loss: 2.4372\n",
            "Epoch: 2/20... Step: 200... Loss: 2.4424... Val Loss: 2.4137\n",
            "Epoch: 2/20... Step: 210... Loss: 2.3971... Val Loss: 2.3786\n",
            "Epoch: 2/20... Step: 220... Loss: 2.3644... Val Loss: 2.3486\n",
            "Epoch: 2/20... Step: 230... Loss: 2.3472... Val Loss: 2.3202\n",
            "Epoch: 2/20... Step: 240... Loss: 2.3287... Val Loss: 2.2998\n",
            "Epoch: 2/20... Step: 250... Loss: 2.2639... Val Loss: 2.2627\n",
            "Epoch: 2/20... Step: 260... Loss: 2.2342... Val Loss: 2.2369\n",
            "Epoch: 2/20... Step: 270... Loss: 2.2331... Val Loss: 2.2107\n",
            "Epoch: 3/20... Step: 280... Loss: 2.2396... Val Loss: 2.1951\n",
            "Epoch: 3/20... Step: 290... Loss: 2.1936... Val Loss: 2.1654\n",
            "Epoch: 3/20... Step: 300... Loss: 2.1717... Val Loss: 2.1399\n",
            "Epoch: 3/20... Step: 310... Loss: 2.1458... Val Loss: 2.1183\n",
            "Epoch: 3/20... Step: 320... Loss: 2.1163... Val Loss: 2.0976\n",
            "Epoch: 3/20... Step: 330... Loss: 2.0815... Val Loss: 2.0776\n",
            "Epoch: 3/20... Step: 340... Loss: 2.0992... Val Loss: 2.0615\n",
            "Epoch: 3/20... Step: 350... Loss: 2.0754... Val Loss: 2.0374\n",
            "Epoch: 3/20... Step: 360... Loss: 2.0075... Val Loss: 2.0214\n",
            "Epoch: 3/20... Step: 370... Loss: 2.0410... Val Loss: 2.0040\n",
            "Epoch: 3/20... Step: 380... Loss: 2.0130... Val Loss: 1.9845\n",
            "Epoch: 3/20... Step: 390... Loss: 1.9857... Val Loss: 1.9706\n",
            "Epoch: 3/20... Step: 400... Loss: 1.9494... Val Loss: 1.9524\n",
            "Epoch: 3/20... Step: 410... Loss: 1.9661... Val Loss: 1.9410\n",
            "Epoch: 4/20... Step: 420... Loss: 1.9519... Val Loss: 1.9284\n",
            "Epoch: 4/20... Step: 430... Loss: 1.9448... Val Loss: 1.9102\n",
            "Epoch: 4/20... Step: 440... Loss: 1.9332... Val Loss: 1.8996\n",
            "Epoch: 4/20... Step: 450... Loss: 1.8722... Val Loss: 1.8835\n",
            "Epoch: 4/20... Step: 460... Loss: 1.8619... Val Loss: 1.8714\n",
            "Epoch: 4/20... Step: 470... Loss: 1.8879... Val Loss: 1.8602\n",
            "Epoch: 4/20... Step: 480... Loss: 1.8686... Val Loss: 1.8455\n",
            "Epoch: 4/20... Step: 490... Loss: 1.8707... Val Loss: 1.8332\n",
            "Epoch: 4/20... Step: 500... Loss: 1.8634... Val Loss: 1.8230\n",
            "Epoch: 4/20... Step: 510... Loss: 1.8347... Val Loss: 1.8101\n",
            "Epoch: 4/20... Step: 520... Loss: 1.8490... Val Loss: 1.7983\n",
            "Epoch: 4/20... Step: 530... Loss: 1.8182... Val Loss: 1.7901\n",
            "Epoch: 4/20... Step: 540... Loss: 1.7759... Val Loss: 1.7765\n",
            "Epoch: 4/20... Step: 550... Loss: 1.8217... Val Loss: 1.7644\n",
            "Epoch: 5/20... Step: 560... Loss: 1.7896... Val Loss: 1.7542\n",
            "Epoch: 5/20... Step: 570... Loss: 1.7698... Val Loss: 1.7455\n",
            "Epoch: 5/20... Step: 580... Loss: 1.7507... Val Loss: 1.7371\n",
            "Epoch: 5/20... Step: 590... Loss: 1.7387... Val Loss: 1.7271\n",
            "Epoch: 5/20... Step: 600... Loss: 1.7450... Val Loss: 1.7221\n",
            "Epoch: 5/20... Step: 610... Loss: 1.7269... Val Loss: 1.7141\n",
            "Epoch: 5/20... Step: 620... Loss: 1.7298... Val Loss: 1.7067\n",
            "Epoch: 5/20... Step: 630... Loss: 1.7434... Val Loss: 1.7015\n",
            "Epoch: 5/20... Step: 640... Loss: 1.7096... Val Loss: 1.6903\n",
            "Epoch: 5/20... Step: 650... Loss: 1.6960... Val Loss: 1.6832\n",
            "Epoch: 5/20... Step: 660... Loss: 1.6711... Val Loss: 1.6746\n",
            "Epoch: 5/20... Step: 670... Loss: 1.7047... Val Loss: 1.6664\n",
            "Epoch: 5/20... Step: 680... Loss: 1.6914... Val Loss: 1.6589\n",
            "Epoch: 5/20... Step: 690... Loss: 1.6632... Val Loss: 1.6526\n",
            "Epoch: 6/20... Step: 700... Loss: 1.6694... Val Loss: 1.6443\n",
            "Epoch: 6/20... Step: 710... Loss: 1.6551... Val Loss: 1.6403\n",
            "Epoch: 6/20... Step: 720... Loss: 1.6521... Val Loss: 1.6335\n",
            "Epoch: 6/20... Step: 730... Loss: 1.6657... Val Loss: 1.6306\n",
            "Epoch: 6/20... Step: 740... Loss: 1.6194... Val Loss: 1.6257\n",
            "Epoch: 6/20... Step: 750... Loss: 1.6104... Val Loss: 1.6197\n",
            "Epoch: 6/20... Step: 760... Loss: 1.6443... Val Loss: 1.6140\n",
            "Epoch: 6/20... Step: 770... Loss: 1.6237... Val Loss: 1.6096\n",
            "Epoch: 6/20... Step: 780... Loss: 1.6067... Val Loss: 1.6028\n",
            "Epoch: 6/20... Step: 790... Loss: 1.6013... Val Loss: 1.5958\n",
            "Epoch: 6/20... Step: 800... Loss: 1.6121... Val Loss: 1.5940\n",
            "Epoch: 6/20... Step: 810... Loss: 1.5996... Val Loss: 1.5851\n",
            "Epoch: 6/20... Step: 820... Loss: 1.5652... Val Loss: 1.5836\n",
            "Epoch: 6/20... Step: 830... Loss: 1.6093... Val Loss: 1.5759\n",
            "Epoch: 7/20... Step: 840... Loss: 1.5577... Val Loss: 1.5704\n",
            "Epoch: 7/20... Step: 850... Loss: 1.5829... Val Loss: 1.5684\n",
            "Epoch: 7/20... Step: 860... Loss: 1.5624... Val Loss: 1.5614\n",
            "Epoch: 7/20... Step: 870... Loss: 1.5809... Val Loss: 1.5579\n",
            "Epoch: 7/20... Step: 880... Loss: 1.5655... Val Loss: 1.5574\n",
            "Epoch: 7/20... Step: 890... Loss: 1.5741... Val Loss: 1.5529\n",
            "Epoch: 7/20... Step: 900... Loss: 1.5436... Val Loss: 1.5514\n",
            "Epoch: 7/20... Step: 910... Loss: 1.5217... Val Loss: 1.5428\n",
            "Epoch: 7/20... Step: 920... Loss: 1.5446... Val Loss: 1.5400\n",
            "Epoch: 7/20... Step: 930... Loss: 1.5196... Val Loss: 1.5366\n",
            "Epoch: 7/20... Step: 940... Loss: 1.5281... Val Loss: 1.5335\n",
            "Epoch: 7/20... Step: 950... Loss: 1.5443... Val Loss: 1.5261\n",
            "Epoch: 7/20... Step: 960... Loss: 1.5443... Val Loss: 1.5261\n",
            "Epoch: 7/20... Step: 970... Loss: 1.5532... Val Loss: 1.5214\n",
            "Epoch: 8/20... Step: 980... Loss: 1.5274... Val Loss: 1.5198\n",
            "Epoch: 8/20... Step: 990... Loss: 1.5211... Val Loss: 1.5128\n",
            "Epoch: 8/20... Step: 1000... Loss: 1.5108... Val Loss: 1.5113\n",
            "Epoch: 8/20... Step: 1010... Loss: 1.5528... Val Loss: 1.5073\n",
            "Epoch: 8/20... Step: 1020... Loss: 1.5179... Val Loss: 1.5037\n",
            "Epoch: 8/20... Step: 1030... Loss: 1.4927... Val Loss: 1.4994\n",
            "Epoch: 8/20... Step: 1040... Loss: 1.5041... Val Loss: 1.5016\n",
            "Epoch: 8/20... Step: 1050... Loss: 1.4834... Val Loss: 1.4948\n",
            "Epoch: 8/20... Step: 1060... Loss: 1.4944... Val Loss: 1.4926\n",
            "Epoch: 8/20... Step: 1070... Loss: 1.4899... Val Loss: 1.4873\n",
            "Epoch: 8/20... Step: 1080... Loss: 1.4923... Val Loss: 1.4858\n",
            "Epoch: 8/20... Step: 1090... Loss: 1.4738... Val Loss: 1.4829\n",
            "Epoch: 8/20... Step: 1100... Loss: 1.4688... Val Loss: 1.4782\n",
            "Epoch: 8/20... Step: 1110... Loss: 1.4802... Val Loss: 1.4768\n",
            "Epoch: 9/20... Step: 1120... Loss: 1.4892... Val Loss: 1.4745\n",
            "Epoch: 9/20... Step: 1130... Loss: 1.4789... Val Loss: 1.4737\n",
            "Epoch: 9/20... Step: 1140... Loss: 1.4853... Val Loss: 1.4697\n",
            "Epoch: 9/20... Step: 1150... Loss: 1.4974... Val Loss: 1.4672\n",
            "Epoch: 9/20... Step: 1160... Loss: 1.4598... Val Loss: 1.4656\n",
            "Epoch: 9/20... Step: 1170... Loss: 1.4586... Val Loss: 1.4605\n",
            "Epoch: 9/20... Step: 1180... Loss: 1.4538... Val Loss: 1.4640\n",
            "Epoch: 9/20... Step: 1190... Loss: 1.4851... Val Loss: 1.4577\n",
            "Epoch: 9/20... Step: 1200... Loss: 1.4316... Val Loss: 1.4567\n",
            "Epoch: 9/20... Step: 1210... Loss: 1.4458... Val Loss: 1.4540\n",
            "Epoch: 9/20... Step: 1220... Loss: 1.4525... Val Loss: 1.4509\n",
            "Epoch: 9/20... Step: 1230... Loss: 1.4259... Val Loss: 1.4501\n",
            "Epoch: 9/20... Step: 1240... Loss: 1.4352... Val Loss: 1.4470\n",
            "Epoch: 9/20... Step: 1250... Loss: 1.4459... Val Loss: 1.4421\n",
            "Epoch: 10/20... Step: 1260... Loss: 1.4523... Val Loss: 1.4423\n",
            "Epoch: 10/20... Step: 1270... Loss: 1.4356... Val Loss: 1.4423\n",
            "Epoch: 10/20... Step: 1280... Loss: 1.4406... Val Loss: 1.4371\n",
            "Epoch: 10/20... Step: 1290... Loss: 1.4429... Val Loss: 1.4359\n",
            "Epoch: 10/20... Step: 1300... Loss: 1.4281... Val Loss: 1.4351\n",
            "Epoch: 10/20... Step: 1310... Loss: 1.4371... Val Loss: 1.4303\n",
            "Epoch: 10/20... Step: 1320... Loss: 1.4057... Val Loss: 1.4307\n",
            "Epoch: 10/20... Step: 1330... Loss: 1.4089... Val Loss: 1.4269\n",
            "Epoch: 10/20... Step: 1340... Loss: 1.4014... Val Loss: 1.4268\n",
            "Epoch: 10/20... Step: 1350... Loss: 1.3843... Val Loss: 1.4228\n",
            "Epoch: 10/20... Step: 1360... Loss: 1.3941... Val Loss: 1.4233\n",
            "Epoch: 10/20... Step: 1370... Loss: 1.3866... Val Loss: 1.4236\n",
            "Epoch: 10/20... Step: 1380... Loss: 1.4315... Val Loss: 1.4152\n",
            "Epoch: 10/20... Step: 1390... Loss: 1.4265... Val Loss: 1.4167\n",
            "Epoch: 11/20... Step: 1400... Loss: 1.4324... Val Loss: 1.4124\n",
            "Epoch: 11/20... Step: 1410... Loss: 1.4439... Val Loss: 1.4141\n",
            "Epoch: 11/20... Step: 1420... Loss: 1.4344... Val Loss: 1.4088\n",
            "Epoch: 11/20... Step: 1430... Loss: 1.4049... Val Loss: 1.4150\n",
            "Epoch: 11/20... Step: 1440... Loss: 1.4214... Val Loss: 1.4090\n",
            "Epoch: 11/20... Step: 1450... Loss: 1.3506... Val Loss: 1.4077\n",
            "Epoch: 11/20... Step: 1460... Loss: 1.3808... Val Loss: 1.4034\n",
            "Epoch: 11/20... Step: 1470... Loss: 1.3776... Val Loss: 1.4049\n",
            "Epoch: 11/20... Step: 1480... Loss: 1.3932... Val Loss: 1.4017\n",
            "Epoch: 11/20... Step: 1490... Loss: 1.3853... Val Loss: 1.3994\n",
            "Epoch: 11/20... Step: 1500... Loss: 1.3716... Val Loss: 1.3996\n",
            "Epoch: 11/20... Step: 1510... Loss: 1.3459... Val Loss: 1.3983\n",
            "Epoch: 11/20... Step: 1520... Loss: 1.3920... Val Loss: 1.3953\n",
            "Epoch: 12/20... Step: 1530... Loss: 1.4315... Val Loss: 1.3946\n",
            "Epoch: 12/20... Step: 1540... Loss: 1.3905... Val Loss: 1.3933\n",
            "Epoch: 12/20... Step: 1550... Loss: 1.4026... Val Loss: 1.3891\n",
            "Epoch: 12/20... Step: 1560... Loss: 1.4141... Val Loss: 1.3882\n",
            "Epoch: 12/20... Step: 1570... Loss: 1.3584... Val Loss: 1.3897\n",
            "Epoch: 12/20... Step: 1580... Loss: 1.3355... Val Loss: 1.3874\n",
            "Epoch: 12/20... Step: 1590... Loss: 1.3370... Val Loss: 1.3877\n",
            "Epoch: 12/20... Step: 1600... Loss: 1.3547... Val Loss: 1.3856\n",
            "Epoch: 12/20... Step: 1610... Loss: 1.3555... Val Loss: 1.3867\n",
            "Epoch: 12/20... Step: 1620... Loss: 1.3489... Val Loss: 1.3839\n",
            "Epoch: 12/20... Step: 1630... Loss: 1.3695... Val Loss: 1.3822\n",
            "Epoch: 12/20... Step: 1640... Loss: 1.3513... Val Loss: 1.3804\n",
            "Epoch: 12/20... Step: 1650... Loss: 1.3180... Val Loss: 1.3792\n",
            "Epoch: 12/20... Step: 1660... Loss: 1.3843... Val Loss: 1.3743\n",
            "Epoch: 13/20... Step: 1670... Loss: 1.3439... Val Loss: 1.3766\n",
            "Epoch: 13/20... Step: 1680... Loss: 1.3596... Val Loss: 1.3735\n",
            "Epoch: 13/20... Step: 1690... Loss: 1.3387... Val Loss: 1.3736\n",
            "Epoch: 13/20... Step: 1700... Loss: 1.3400... Val Loss: 1.3718\n",
            "Epoch: 13/20... Step: 1710... Loss: 1.3229... Val Loss: 1.3724\n",
            "Epoch: 13/20... Step: 1720... Loss: 1.3340... Val Loss: 1.3676\n",
            "Epoch: 13/20... Step: 1730... Loss: 1.3677... Val Loss: 1.3664\n",
            "Epoch: 13/20... Step: 1740... Loss: 1.3325... Val Loss: 1.3667\n",
            "Epoch: 13/20... Step: 1750... Loss: 1.3048... Val Loss: 1.3658\n",
            "Epoch: 13/20... Step: 1760... Loss: 1.3209... Val Loss: 1.3659\n",
            "Epoch: 13/20... Step: 1770... Loss: 1.3473... Val Loss: 1.3653\n",
            "Epoch: 13/20... Step: 1780... Loss: 1.3276... Val Loss: 1.3627\n",
            "Epoch: 13/20... Step: 1790... Loss: 1.3096... Val Loss: 1.3632\n",
            "Epoch: 13/20... Step: 1800... Loss: 1.3338... Val Loss: 1.3605\n",
            "Epoch: 14/20... Step: 1810... Loss: 1.3360... Val Loss: 1.3633\n",
            "Epoch: 14/20... Step: 1820... Loss: 1.3241... Val Loss: 1.3586\n",
            "Epoch: 14/20... Step: 1830... Loss: 1.3462... Val Loss: 1.3595\n",
            "Epoch: 14/20... Step: 1840... Loss: 1.2956... Val Loss: 1.3569\n",
            "Epoch: 14/20... Step: 1850... Loss: 1.2804... Val Loss: 1.3564\n",
            "Epoch: 14/20... Step: 1860... Loss: 1.3333... Val Loss: 1.3556\n",
            "Epoch: 14/20... Step: 1870... Loss: 1.3411... Val Loss: 1.3534\n",
            "Epoch: 14/20... Step: 1880... Loss: 1.3266... Val Loss: 1.3553\n",
            "Epoch: 14/20... Step: 1890... Loss: 1.3443... Val Loss: 1.3535\n",
            "Epoch: 14/20... Step: 1900... Loss: 1.3142... Val Loss: 1.3503\n",
            "Epoch: 14/20... Step: 1910... Loss: 1.3298... Val Loss: 1.3518\n",
            "Epoch: 14/20... Step: 1920... Loss: 1.3162... Val Loss: 1.3485\n",
            "Epoch: 14/20... Step: 1930... Loss: 1.2881... Val Loss: 1.3481\n",
            "Epoch: 14/20... Step: 1940... Loss: 1.3445... Val Loss: 1.3448\n",
            "Epoch: 15/20... Step: 1950... Loss: 1.3049... Val Loss: 1.3537\n",
            "Epoch: 15/20... Step: 1960... Loss: 1.3118... Val Loss: 1.3478\n",
            "Epoch: 15/20... Step: 1970... Loss: 1.3023... Val Loss: 1.3435\n",
            "Epoch: 15/20... Step: 1980... Loss: 1.2924... Val Loss: 1.3462\n",
            "Epoch: 15/20... Step: 1990... Loss: 1.2944... Val Loss: 1.3440\n",
            "Epoch: 15/20... Step: 2000... Loss: 1.2741... Val Loss: 1.3437\n",
            "Epoch: 15/20... Step: 2010... Loss: 1.3048... Val Loss: 1.3402\n",
            "Epoch: 15/20... Step: 2020... Loss: 1.3115... Val Loss: 1.3446\n",
            "Epoch: 15/20... Step: 2030... Loss: 1.2854... Val Loss: 1.3429\n",
            "Epoch: 15/20... Step: 2040... Loss: 1.3018... Val Loss: 1.3413\n",
            "Epoch: 15/20... Step: 2050... Loss: 1.2867... Val Loss: 1.3402\n",
            "Epoch: 15/20... Step: 2060... Loss: 1.3077... Val Loss: 1.3368\n",
            "Epoch: 15/20... Step: 2070... Loss: 1.3104... Val Loss: 1.3387\n",
            "Epoch: 15/20... Step: 2080... Loss: 1.2961... Val Loss: 1.3356\n",
            "Epoch: 16/20... Step: 2090... Loss: 1.3037... Val Loss: 1.3336\n",
            "Epoch: 16/20... Step: 2100... Loss: 1.2843... Val Loss: 1.3362\n",
            "Epoch: 16/20... Step: 2110... Loss: 1.2824... Val Loss: 1.3342\n",
            "Epoch: 16/20... Step: 2120... Loss: 1.2972... Val Loss: 1.3336\n",
            "Epoch: 16/20... Step: 2130... Loss: 1.2675... Val Loss: 1.3319\n",
            "Epoch: 16/20... Step: 2140... Loss: 1.2758... Val Loss: 1.3300\n",
            "Epoch: 16/20... Step: 2150... Loss: 1.3051... Val Loss: 1.3305\n",
            "Epoch: 16/20... Step: 2160... Loss: 1.2716... Val Loss: 1.3345\n",
            "Epoch: 16/20... Step: 2170... Loss: 1.2876... Val Loss: 1.3328\n",
            "Epoch: 16/20... Step: 2180... Loss: 1.2733... Val Loss: 1.3304\n",
            "Epoch: 16/20... Step: 2190... Loss: 1.2959... Val Loss: 1.3300\n",
            "Epoch: 16/20... Step: 2200... Loss: 1.2720... Val Loss: 1.3248\n",
            "Epoch: 16/20... Step: 2210... Loss: 1.2428... Val Loss: 1.3268\n",
            "Epoch: 16/20... Step: 2220... Loss: 1.2935... Val Loss: 1.3283\n",
            "Epoch: 17/20... Step: 2230... Loss: 1.2622... Val Loss: 1.3269\n",
            "Epoch: 17/20... Step: 2240... Loss: 1.2783... Val Loss: 1.3278\n",
            "Epoch: 17/20... Step: 2250... Loss: 1.2538... Val Loss: 1.3249\n",
            "Epoch: 17/20... Step: 2260... Loss: 1.2675... Val Loss: 1.3240\n",
            "Epoch: 17/20... Step: 2270... Loss: 1.2707... Val Loss: 1.3228\n",
            "Epoch: 17/20... Step: 2280... Loss: 1.2822... Val Loss: 1.3210\n",
            "Epoch: 17/20... Step: 2290... Loss: 1.2838... Val Loss: 1.3206\n",
            "Epoch: 17/20... Step: 2300... Loss: 1.2392... Val Loss: 1.3248\n",
            "Epoch: 17/20... Step: 2310... Loss: 1.2676... Val Loss: 1.3188\n",
            "Epoch: 17/20... Step: 2320... Loss: 1.2593... Val Loss: 1.3208\n",
            "Epoch: 17/20... Step: 2330... Loss: 1.2585... Val Loss: 1.3210\n",
            "Epoch: 17/20... Step: 2340... Loss: 1.2702... Val Loss: 1.3174\n",
            "Epoch: 17/20... Step: 2350... Loss: 1.2833... Val Loss: 1.3194\n",
            "Epoch: 17/20... Step: 2360... Loss: 1.2835... Val Loss: 1.3210\n",
            "Epoch: 18/20... Step: 2370... Loss: 1.2442... Val Loss: 1.3198\n",
            "Epoch: 18/20... Step: 2380... Loss: 1.2599... Val Loss: 1.3177\n",
            "Epoch: 18/20... Step: 2390... Loss: 1.2532... Val Loss: 1.3151\n",
            "Epoch: 18/20... Step: 2400... Loss: 1.2875... Val Loss: 1.3156\n",
            "Epoch: 18/20... Step: 2410... Loss: 1.2820... Val Loss: 1.3145\n",
            "Epoch: 18/20... Step: 2420... Loss: 1.2609... Val Loss: 1.3102\n",
            "Epoch: 18/20... Step: 2430... Loss: 1.2689... Val Loss: 1.3133\n",
            "Epoch: 18/20... Step: 2440... Loss: 1.2466... Val Loss: 1.3172\n",
            "Epoch: 18/20... Step: 2450... Loss: 1.2438... Val Loss: 1.3118\n",
            "Epoch: 18/20... Step: 2460... Loss: 1.2567... Val Loss: 1.3124\n",
            "Epoch: 18/20... Step: 2470... Loss: 1.2584... Val Loss: 1.3100\n",
            "Epoch: 18/20... Step: 2480... Loss: 1.2500... Val Loss: 1.3090\n",
            "Epoch: 18/20... Step: 2490... Loss: 1.2359... Val Loss: 1.3108\n",
            "Epoch: 18/20... Step: 2500... Loss: 1.2496... Val Loss: 1.3107\n",
            "Epoch: 19/20... Step: 2510... Loss: 1.2557... Val Loss: 1.3093\n",
            "Epoch: 19/20... Step: 2520... Loss: 1.2651... Val Loss: 1.3111\n",
            "Epoch: 19/20... Step: 2530... Loss: 1.2578... Val Loss: 1.3074\n",
            "Epoch: 19/20... Step: 2540... Loss: 1.2720... Val Loss: 1.3087\n",
            "Epoch: 19/20... Step: 2550... Loss: 1.2420... Val Loss: 1.3122\n",
            "Epoch: 19/20... Step: 2560... Loss: 1.2528... Val Loss: 1.3029\n",
            "Epoch: 19/20... Step: 2570... Loss: 1.2318... Val Loss: 1.3045\n",
            "Epoch: 19/20... Step: 2580... Loss: 1.2764... Val Loss: 1.3060\n",
            "Epoch: 19/20... Step: 2590... Loss: 1.2304... Val Loss: 1.3076\n",
            "Epoch: 19/20... Step: 2600... Loss: 1.2216... Val Loss: 1.3104\n",
            "Epoch: 19/20... Step: 2610... Loss: 1.2468... Val Loss: 1.3060\n",
            "Epoch: 19/20... Step: 2620... Loss: 1.2187... Val Loss: 1.3018\n",
            "Epoch: 19/20... Step: 2630... Loss: 1.2200... Val Loss: 1.3059\n",
            "Epoch: 19/20... Step: 2640... Loss: 1.2398... Val Loss: 1.3064\n",
            "Epoch: 20/20... Step: 2650... Loss: 1.2531... Val Loss: 1.3016\n",
            "Epoch: 20/20... Step: 2660... Loss: 1.2467... Val Loss: 1.3022\n",
            "Epoch: 20/20... Step: 2670... Loss: 1.2544... Val Loss: 1.2990\n",
            "Epoch: 20/20... Step: 2680... Loss: 1.2477... Val Loss: 1.2992\n",
            "Epoch: 20/20... Step: 2690... Loss: 1.2405... Val Loss: 1.3039\n",
            "Epoch: 20/20... Step: 2700... Loss: 1.2437... Val Loss: 1.2976\n",
            "Epoch: 20/20... Step: 2710... Loss: 1.2243... Val Loss: 1.2953\n",
            "Epoch: 20/20... Step: 2720... Loss: 1.2178... Val Loss: 1.2998\n",
            "Epoch: 20/20... Step: 2730... Loss: 1.2081... Val Loss: 1.2976\n",
            "Epoch: 20/20... Step: 2740... Loss: 1.2033... Val Loss: 1.3013\n",
            "Epoch: 20/20... Step: 2750... Loss: 1.2183... Val Loss: 1.3012\n",
            "Epoch: 20/20... Step: 2760... Loss: 1.2132... Val Loss: 1.2972\n",
            "Epoch: 20/20... Step: 2770... Loss: 1.2426... Val Loss: 1.2985\n",
            "Epoch: 20/20... Step: 2780... Loss: 1.2744... Val Loss: 1.2962\n"
          ],
          "name": "stdout"
        }
      ]
    },
    {
      "metadata": {
        "id": "GRkmThBgPCVe",
        "colab_type": "text"
      },
      "cell_type": "markdown",
      "source": [
        "## Getting the best model\n",
        "\n",
        "To set your hyperparameters to get the best performance, you'll want to watch the training and validation losses. If your training loss is much lower than the validation loss, you're overfitting. Increase regularization (more dropout) or use a smaller network. If the training and validation losses are close, you're underfitting so you can increase the size of the network."
      ]
    },
    {
      "metadata": {
        "id": "Mz0Xj6HpPCVf",
        "colab_type": "text"
      },
      "cell_type": "markdown",
      "source": [
        "## Hyperparameters\n",
        "\n",
        "Here are the hyperparameters for the network.\n",
        "\n",
        "In defining the model:\n",
        "* `n_hidden` - The number of units in the hidden layers.\n",
        "* `n_layers` - Number of hidden LSTM layers to use.\n",
        "\n",
        "We assume that dropout probability and learning rate will be kept at the default, in this example.\n",
        "\n",
        "And in training:\n",
        "* `batch_size` - Number of sequences running through the network in one pass.\n",
        "* `seq_length` - Number of characters in the sequence the network is trained on. Larger is better typically, the network will learn more long range dependencies. But it takes longer to train. 100 is typically a good number here.\n",
        "* `lr` - Learning rate for training\n",
        "\n",
        "Here's some good advice from Andrej Karpathy on training the network. I'm going to copy it in here for your benefit, but also link to [where it originally came from](https://github.com/karpathy/char-rnn#tips-and-tricks).\n",
        "\n",
        "> ## Tips and Tricks\n",
        "\n",
        ">### Monitoring Validation Loss vs. Training Loss\n",
        ">If you're somewhat new to Machine Learning or Neural Networks it can take a bit of expertise to get good models. The most important quantity to keep track of is the difference between your training loss (printed during training) and the validation loss (printed once in a while when the RNN is run on the validation data (by default every 1000 iterations)). In particular:\n",
        "\n",
        "> - If your training loss is much lower than validation loss then this means the network might be **overfitting**. Solutions to this are to decrease your network size, or to increase dropout. For example you could try dropout of 0.5 and so on.\n",
        "> - If your training/validation loss are about equal then your model is **underfitting**. Increase the size of your model (either number of layers or the raw number of neurons per layer)\n",
        "\n",
        "> ### Approximate number of parameters\n",
        "\n",
        "> The two most important parameters that control the model are `n_hidden` and `n_layers`. I would advise that you always use `n_layers` of either 2/3. The `n_hidden` can be adjusted based on how much data you have. The two important quantities to keep track of here are:\n",
        "\n",
        "> - The number of parameters in your model. This is printed when you start training.\n",
        "> - The size of your dataset. 1MB file is approximately 1 million characters.\n",
        "\n",
        ">These two should be about the same order of magnitude. It's a little tricky to tell. Here are some examples:\n",
        "\n",
        "> - I have a 100MB dataset and I'm using the default parameter settings (which currently print 150K parameters). My data size is significantly larger (100 mil >> 0.15 mil), so I expect to heavily underfit. I am thinking I can comfortably afford to make `n_hidden` larger.\n",
        "> - I have a 10MB dataset and running a 10 million parameter model. I'm slightly nervous and I'm carefully monitoring my validation loss. If it's larger than my training loss then I may want to try to increase dropout a bit and see if that helps the validation loss.\n",
        "\n",
        "> ### Best models strategy\n",
        "\n",
        ">The winning strategy to obtaining very good models (if you have the compute time) is to always err on making the network larger (as large as you're willing to wait for it to compute) and then try different dropout values (between 0,1). Whatever model has the best validation performance (the loss, written in the checkpoint filename, low is good) is the one you should use in the end.\n",
        "\n",
        ">It is very common in deep learning to run many different models with many different hyperparameter settings, and in the end take whatever checkpoint gave the best validation performance.\n",
        "\n",
        ">By the way, the size of your training and validation splits are also parameters. Make sure you have a decent amount of data in your validation set or otherwise the validation performance will be noisy and not very informative."
      ]
    },
    {
      "metadata": {
        "id": "z200vRpWPCVf",
        "colab_type": "text"
      },
      "cell_type": "markdown",
      "source": [
        "## Checkpoint\n",
        "\n",
        "After training, we'll save the model so we can load it again later if we need too. Here I'm saving the parameters needed to create the same architecture, the hidden layer hyperparameters and the text characters."
      ]
    },
    {
      "metadata": {
        "id": "8RUcgFelPCVg",
        "colab_type": "code",
        "colab": {}
      },
      "cell_type": "code",
      "source": [
        "# change the name, for saving multiple files\n",
        "model_name = 'rnn_x_epoch.net'\n",
        "\n",
        "checkpoint = {'n_hidden': net.n_hidden,\n",
        "              'n_layers': net.n_layers,\n",
        "              'state_dict': net.state_dict(),\n",
        "              'tokens': net.chars}\n",
        "\n",
        "with open(model_name, 'wb') as f:\n",
        "    torch.save(checkpoint, f)"
      ],
      "execution_count": 0,
      "outputs": []
    },
    {
      "metadata": {
        "id": "d5LEMuY7PCVj",
        "colab_type": "text"
      },
      "cell_type": "markdown",
      "source": [
        "---\n",
        "## Making Predictions\n",
        "\n",
        "Now that the model is trained, we'll want to sample from it and make predictions about next characters! To sample, we pass in a character and have the network predict the next character. Then we take that character, pass it back in, and get another predicted character. Just keep doing this and you'll generate a bunch of text!\n",
        "\n",
        "### A note on the `predict`  function\n",
        "\n",
        "The output of our RNN is from a fully-connected layer and it outputs a **distribution of next-character scores**.\n",
        "\n",
        "> To actually get the next character, we apply a softmax function, which gives us a *probability* distribution that we can then sample to predict the next character.\n",
        "\n",
        "### Top K sampling\n",
        "\n",
        "Our predictions come from a categorical probability distribution over all the possible characters. We can make the sample text and make it more reasonable to handle (with less variables) by only considering some $K$ most probable characters. This will prevent the network from giving us completely absurd characters while allowing it to introduce some noise and randomness into the sampled text. Read more about [topk, here](https://pytorch.org/docs/stable/torch.html#torch.topk).\n"
      ]
    },
    {
      "metadata": {
        "id": "WqVeA4VJPCVk",
        "colab_type": "code",
        "colab": {}
      },
      "cell_type": "code",
      "source": [
        "def predict(net, char, h=None, top_k=None):\n",
        "        ''' Given a character, predict the next character.\n",
        "            Returns the predicted character and the hidden state.\n",
        "        '''\n",
        "        \n",
        "        # tensor inputs\n",
        "        x = np.array([[net.char2int[char]]])\n",
        "        x = one_hot_encode(x, len(net.chars))\n",
        "        inputs = torch.from_numpy(x)\n",
        "        \n",
        "        if(train_on_gpu):\n",
        "            inputs = inputs.cuda()\n",
        "        \n",
        "        # detach hidden state from history\n",
        "        h = tuple([each.data for each in h])\n",
        "        # get the output of the model\n",
        "        out, h = net(inputs, h)\n",
        "\n",
        "        # get the character probabilities\n",
        "        p = F.softmax(out, dim=1).data\n",
        "        if(train_on_gpu):\n",
        "            p = p.cpu() # move to cpu\n",
        "        \n",
        "        # get top characters\n",
        "        if top_k is None:\n",
        "            top_ch = np.arange(len(net.chars))\n",
        "        else:\n",
        "            p, top_ch = p.topk(top_k)\n",
        "            top_ch = top_ch.numpy().squeeze()\n",
        "        \n",
        "        # select the likely next character with some element of randomness\n",
        "        p = p.numpy().squeeze()\n",
        "        char = np.random.choice(top_ch, p=p/p.sum())\n",
        "        \n",
        "        # return the encoded value of the predicted char and the hidden state\n",
        "        return net.int2char[char], h"
      ],
      "execution_count": 0,
      "outputs": []
    },
    {
      "metadata": {
        "id": "f3IktYdNPCVm",
        "colab_type": "text"
      },
      "cell_type": "markdown",
      "source": [
        "### Priming and generating text \n",
        "\n",
        "Typically you'll want to prime the network so you can build up a hidden state. Otherwise the network will start out generating characters at random. In general the first bunch of characters will be a little rough since it hasn't built up a long history of characters to predict from."
      ]
    },
    {
      "metadata": {
        "id": "IfrPVDJ9PCVo",
        "colab_type": "code",
        "colab": {}
      },
      "cell_type": "code",
      "source": [
        "def sample(net, size, prime='The', top_k=None):\n",
        "        \n",
        "    if(train_on_gpu):\n",
        "        net.cuda()\n",
        "    else:\n",
        "        net.cpu()\n",
        "    \n",
        "    net.eval() # eval mode\n",
        "    \n",
        "    # First off, run through the prime characters\n",
        "    chars = [ch for ch in prime]\n",
        "    h = net.init_hidden(1)\n",
        "    for ch in prime:\n",
        "        char, h = predict(net, ch, h, top_k=top_k)\n",
        "\n",
        "    chars.append(char)\n",
        "    \n",
        "    # Now pass in the previous character and get a new one\n",
        "    for ii in range(size):\n",
        "        char, h = predict(net, chars[-1], h, top_k=top_k)\n",
        "        chars.append(char)\n",
        "\n",
        "    return ''.join(chars)"
      ],
      "execution_count": 0,
      "outputs": []
    },
    {
      "metadata": {
        "id": "-FBTc6d9PCVq",
        "colab_type": "code",
        "colab": {
          "base_uri": "https://localhost:8080/",
          "height": 408
        },
        "outputId": "792cfd97-7ea9-4509-aa74-9aa5fd268e65"
      },
      "cell_type": "code",
      "source": [
        "print(sample(net, 1000, prime='Anna', top_k=5))"
      ],
      "execution_count": 30,
      "outputs": [
        {
          "output_type": "stream",
          "text": [
            "Anna artisically still and attaching him\n",
            "in the mearor of the sound, his first counces the more\n",
            "short, as it was to catch him to treit\n",
            "when all of them. He had to call their secretary abread and to his head\n",
            "of the mother\n",
            "and said\n",
            "that in his brother had not seen his brother's foots.\n",
            "\n",
            "Sergey Ivanovitch answered\n",
            "her, as though in another, and so teller him of something\n",
            "sheer. But staying sight for him. That was the\n",
            "frand about his brother.\n",
            "\n",
            "\"Oh, I can't go weak,\" said Stepan Arkadyevitch,\n",
            "litting the carriage,\n",
            "stending it was a complet of the materiar of her shore way to the same father and still should for her to\n",
            "have heard all the course.\n",
            "\n",
            "\"What a such subject? Is he has talked of his barlies, the sender was suff to\n",
            "hive, and the same supper she would be necesdayed to be the footman, who wants a barred ard table in her conventing.\n",
            "They all the famelis and sterns is to be anything. We have nothing such\n",
            "talking, but I can't be the same in wearing\n",
            "about the children. They are standing for him,\n"
          ],
          "name": "stdout"
        }
      ]
    },
    {
      "metadata": {
        "id": "DOXiUXhXPCVt",
        "colab_type": "text"
      },
      "cell_type": "markdown",
      "source": [
        "## Loading a checkpoint"
      ]
    },
    {
      "metadata": {
        "id": "4u8rdeXQPCVu",
        "colab_type": "code",
        "colab": {}
      },
      "cell_type": "code",
      "source": [
        "# Here we have loaded in a model that trained over 20 epochs `rnn_20_epoch.net`\n",
        "with open('rnn_x_epoch.net', 'rb') as f:\n",
        "    checkpoint = torch.load(f)\n",
        "    \n",
        "loaded = CharRNN(checkpoint['tokens'], n_hidden=checkpoint['n_hidden'], n_layers=checkpoint['n_layers'])\n",
        "loaded.load_state_dict(checkpoint['state_dict'])"
      ],
      "execution_count": 0,
      "outputs": []
    },
    {
      "metadata": {
        "id": "anvQEfTrPCVx",
        "colab_type": "code",
        "colab": {
          "base_uri": "https://localhost:8080/",
          "height": 748
        },
        "outputId": "1b49ef9e-e595-4899-e7cc-f895d6195754"
      },
      "cell_type": "code",
      "source": [
        "# Sample using a loaded model\n",
        "print(sample(loaded, 2000, top_k=5, prime=\"And Levin said\"))"
      ],
      "execution_count": 32,
      "outputs": [
        {
          "output_type": "stream",
          "text": [
            "And Levin said: \"I say to you to such a let them, and I have nothing for you. Who have she supposed that they was as\n",
            "such. I had been made a son she has\n",
            "to see her... I want in\n",
            "the call that work was she can do what to be some man succoused a long thing, and shall no different are, and trying nothing\n",
            "in any conscience. There was the most of that man, but I\n",
            "am glad in a found of people. I could not be saying.\"\n",
            "\n",
            "After the same tonar had been satisfaction, and he should have saying. The pecult of a province, with a smile that had been to sent time fell another\n",
            "friends, but well, with whom he\n",
            "had been stirring in the same and table of\n",
            "them.\n",
            "\n",
            "\"Well that you do not know how simply so more\n",
            "struch all thes through hill to be in\n",
            "this mertification of myself on tea of her all that\n",
            "is to the parents. I don't know hurd to make her\n",
            "a minute and there in what he's a peefid before my subject. Well, what a sender way I am going?\" he added, allow the peasant words, \"at the celebrated\n",
            "steading the same and\n",
            "second, thinking him what I\n",
            "shall stay at the marsh in which here all the summer, husbands. I was not asked\n",
            "about the\n",
            "porter. I am, he's now her ard the\n",
            "study they\n",
            "does not take the pirtures to be another familiar and society,\" there was a charron of the things to\n",
            "all the children, and there was nothing that was all observed them.\n",
            "\n",
            "\"There is no time. I don't believe that you'dle throw, but I don't know what you have try to have, and so as it impossible, it's not but to muser.\"\n",
            "\n",
            "\"Oh, you did not look to my marriage, but there's no harrighten mother in the\n",
            "mother at the same open a minute. Here they would be a song that\n",
            "the pryserialists is that I wanted to be to\n",
            "be asked about the children, and I should be to them.\"\n",
            "\n",
            "\"I always see my dinner, that's not in the person, so impromising a botton of the\n",
            "moment if you have to\n",
            "go.\"\n",
            "\n",
            "\"You're not always.\"\n",
            "\n",
            "\"Well, I'll go in the candle.\" And she was stind in this\n",
            "caped,\n",
            "said with the more than they were sure and angry, and that as it was talking\n",
            "that it's a \n"
          ],
          "name": "stdout"
        }
      ]
    },
    {
      "metadata": {
        "id": "7P82X4CmPCV0",
        "colab_type": "code",
        "colab": {}
      },
      "cell_type": "code",
      "source": [
        ""
      ],
      "execution_count": 0,
      "outputs": []
    }
  ]
}