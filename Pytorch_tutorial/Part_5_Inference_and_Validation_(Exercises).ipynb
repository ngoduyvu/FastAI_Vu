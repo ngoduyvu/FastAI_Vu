{
  "nbformat": 4,
  "nbformat_minor": 0,
  "metadata": {
    "colab": {
      "name": "Part 5 - Inference and Validation (Exercises).ipynb",
      "version": "0.3.2",
      "provenance": []
    },
    "kernelspec": {
      "display_name": "Python 3",
      "language": "python",
      "name": "python3"
    }
  },
  "cells": [
    {
      "metadata": {
        "id": "F1hLAOhA34C3",
        "colab_type": "text"
      },
      "cell_type": "markdown",
      "source": [
        "# Inference and Validation\n",
        "\n",
        "Now that you have a trained network, you can use it for making predictions. This is typically called **inference**, a term borrowed from statistics. However, neural networks have a tendency to perform *too well* on the training data and aren't able to generalize to data that hasn't been seen before. This is called **overfitting** and it impairs inference performance. To test for overfitting while training, we measure the performance on data not in the training set called the **validation** set. We avoid overfitting through regularization such as dropout while monitoring the validation performance during training. In this notebook, I'll show you how to do this in PyTorch. \n",
        "\n",
        "As usual, let's start by loading the dataset through torchvision. You'll learn more about torchvision and loading data in a later part. This time we'll be taking advantage of the test set which you can get by setting `train=False` here:\n",
        "\n",
        "```python\n",
        "testset = datasets.FashionMNIST('~/.pytorch/F_MNIST_data/', download=True, train=False, transform=transform)\n",
        "```\n",
        "\n",
        "The test set contains images just like the training set. Typically you'll see 10-20% of the original dataset held out for testing and validation with the rest being used for training."
      ]
    },
    {
      "metadata": {
        "id": "XQemu4Sh4HBU",
        "colab_type": "code",
        "outputId": "73725831-2af4-48d9-d8d5-4633690273f4",
        "colab": {
          "base_uri": "https://localhost:8080/",
          "height": 272
        }
      },
      "cell_type": "code",
      "source": [
        "!pip install torch\n",
        "!pip install torchvision"
      ],
      "execution_count": 0,
      "outputs": [
        {
          "output_type": "stream",
          "text": [
            "Requirement already satisfied: torch in /usr/local/lib/python3.6/dist-packages (0.4.1)\n",
            "Collecting torchvision\n",
            "\u001b[?25l  Downloading https://files.pythonhosted.org/packages/ca/0d/f00b2885711e08bd71242ebe7b96561e6f6d01fdb4b9dcf4d37e2e13c5e1/torchvision-0.2.1-py2.py3-none-any.whl (54kB)\n",
            "\u001b[K    100% |████████████████████████████████| 61kB 1.7MB/s \n",
            "\u001b[?25hRequirement already satisfied: torch in /usr/local/lib/python3.6/dist-packages (from torchvision) (0.4.1)\n",
            "Requirement already satisfied: six in /usr/local/lib/python3.6/dist-packages (from torchvision) (1.11.0)\n",
            "Requirement already satisfied: numpy in /usr/local/lib/python3.6/dist-packages (from torchvision) (1.14.6)\n",
            "Collecting pillow>=4.1.1 (from torchvision)\n",
            "\u001b[?25l  Downloading https://files.pythonhosted.org/packages/62/94/5430ebaa83f91cc7a9f687ff5238e26164a779cca2ef9903232268b0a318/Pillow-5.3.0-cp36-cp36m-manylinux1_x86_64.whl (2.0MB)\n",
            "\u001b[K    100% |████████████████████████████████| 2.0MB 8.4MB/s \n",
            "\u001b[?25hInstalling collected packages: pillow, torchvision\n",
            "  Found existing installation: Pillow 4.0.0\n",
            "    Uninstalling Pillow-4.0.0:\n",
            "      Successfully uninstalled Pillow-4.0.0\n",
            "Successfully installed pillow-5.3.0 torchvision-0.2.1\n"
          ],
          "name": "stdout"
        }
      ]
    },
    {
      "metadata": {
        "id": "VMpDXdRq34C8",
        "colab_type": "code",
        "outputId": "71bf791a-caba-4217-8177-6d8596b71f5f",
        "colab": {
          "base_uri": "https://localhost:8080/",
          "height": 119
        }
      },
      "cell_type": "code",
      "source": [
        "import torch\n",
        "from torchvision import datasets, transforms\n",
        "\n",
        "# Define a transform to normalize the data\n",
        "transform = transforms.Compose([transforms.ToTensor(),\n",
        "                                transforms.Normalize((0.5, 0.5, 0.5), (0.5, 0.5, 0.5))])\n",
        "# Download and load the training data\n",
        "trainset = datasets.FashionMNIST('~/.pytorch/F_MNIST_data/', download=True, train=True, transform=transform)\n",
        "trainloader = torch.utils.data.DataLoader(trainset, batch_size=64, shuffle=True)\n",
        "\n",
        "# Download and load the test data\n",
        "testset = datasets.FashionMNIST('~/.pytorch/F_MNIST_data/', download=True, train=False, transform=transform)\n",
        "testloader = torch.utils.data.DataLoader(testset, batch_size=64, shuffle=True)"
      ],
      "execution_count": 0,
      "outputs": [
        {
          "output_type": "stream",
          "text": [
            "Downloading http://fashion-mnist.s3-website.eu-central-1.amazonaws.com/train-images-idx3-ubyte.gz\n",
            "Downloading http://fashion-mnist.s3-website.eu-central-1.amazonaws.com/train-labels-idx1-ubyte.gz\n",
            "Downloading http://fashion-mnist.s3-website.eu-central-1.amazonaws.com/t10k-images-idx3-ubyte.gz\n",
            "Downloading http://fashion-mnist.s3-website.eu-central-1.amazonaws.com/t10k-labels-idx1-ubyte.gz\n",
            "Processing...\n",
            "Done!\n"
          ],
          "name": "stdout"
        }
      ]
    },
    {
      "metadata": {
        "id": "iwcv0JU-34DC",
        "colab_type": "text"
      },
      "cell_type": "markdown",
      "source": [
        "Here I'll create a model like normal, using the same one from my solution for part 4."
      ]
    },
    {
      "metadata": {
        "id": "stI4oqUz34DD",
        "colab_type": "code",
        "colab": {}
      },
      "cell_type": "code",
      "source": [
        "from torch import nn, optim\n",
        "import torch.nn.functional as F\n",
        "\n",
        "class Classifier(nn.Module):\n",
        "    def __init__(self):\n",
        "        super().__init__()\n",
        "        self.fc1 = nn.Linear(784, 256)\n",
        "        self.fc2 = nn.Linear(256, 128)\n",
        "        self.fc3 = nn.Linear(128, 64)\n",
        "        self.fc4 = nn.Linear(64, 10)\n",
        "        \n",
        "    def forward(self, x):\n",
        "        # make sure input tensor is flattened\n",
        "        x = x.view(x.shape[0], -1)\n",
        "        \n",
        "        x = F.relu(self.fc1(x))\n",
        "        x = F.relu(self.fc2(x))\n",
        "        x = F.relu(self.fc3(x))\n",
        "        x = F.log_softmax(self.fc4(x), dim=1)\n",
        "        \n",
        "        return x"
      ],
      "execution_count": 0,
      "outputs": []
    },
    {
      "metadata": {
        "id": "eXYVSrZd34DH",
        "colab_type": "text"
      },
      "cell_type": "markdown",
      "source": [
        "The goal of validation is to measure the model's performance on data that isn't part of the training set. Performance here is up to the developer to define though. Typically this is just accuracy, the percentage of classes the network predicted correctly. Other options are [precision and recall](https://en.wikipedia.org/wiki/Precision_and_recall#Definition_(classification_context)) and top-5 error rate. We'll focus on accuracy here. First I'll do a forward pass with one batch from the test set."
      ]
    },
    {
      "metadata": {
        "id": "zL9E2Fz234DJ",
        "colab_type": "code",
        "outputId": "8893a51c-66f9-4375-a908-e33ec5f0dc78",
        "colab": {
          "base_uri": "https://localhost:8080/",
          "height": 34
        }
      },
      "cell_type": "code",
      "source": [
        "model = Classifier()\n",
        "\n",
        "images, labels = next(iter(testloader))\n",
        "# Get the class probabilities\n",
        "ps = torch.exp(model(images))\n",
        "# Make sure the shape is appropriate, we should get 10 class probabilities for 64 examples\n",
        "print(ps.shape)"
      ],
      "execution_count": 0,
      "outputs": [
        {
          "output_type": "stream",
          "text": [
            "torch.Size([64, 10])\n"
          ],
          "name": "stdout"
        }
      ]
    },
    {
      "metadata": {
        "id": "PHfJYYa334DP",
        "colab_type": "text"
      },
      "cell_type": "markdown",
      "source": [
        "With the probabilities, we can get the most likely class using the `ps.topk` method. This returns the $k$ highest values. Since we just want the most likely class, we can use `ps.topk(1)`. This returns a tuple of the top-$k$ values and the top-$k$ indices. If the highest value is the fifth element, we'll get back 4 as the index."
      ]
    },
    {
      "metadata": {
        "id": "pIlqwQUN34DP",
        "colab_type": "code",
        "outputId": "f8f8c22b-d9b6-4e64-b995-50a2c9621696",
        "colab": {
          "base_uri": "https://localhost:8080/",
          "height": 187
        }
      },
      "cell_type": "code",
      "source": [
        "top_p, top_class = ps.topk(1, dim=1)\n",
        "# Look at the most likely classes for the first 10 examples\n",
        "print(top_class[:10,:])"
      ],
      "execution_count": 0,
      "outputs": [
        {
          "output_type": "stream",
          "text": [
            "tensor([[3],\n",
            "        [3],\n",
            "        [3],\n",
            "        [3],\n",
            "        [3],\n",
            "        [3],\n",
            "        [3],\n",
            "        [3],\n",
            "        [3],\n",
            "        [3]])\n"
          ],
          "name": "stdout"
        }
      ]
    },
    {
      "metadata": {
        "id": "pzXprPvI34DT",
        "colab_type": "text"
      },
      "cell_type": "markdown",
      "source": [
        "Now we can check if the predicted classes match the labels. This is simple to do by equating `top_class` and `labels`, but we have to be careful of the shapes. Here `top_class` is a 2D tensor with shape `(64, 1)` while `labels` is 1D with shape `(64)`. To get the equality to work out the way we want, `top_class` and `labels` must have the same shape.\n",
        "\n",
        "If we do\n",
        "\n",
        "```python\n",
        "equals = top_class == labels\n",
        "```\n",
        "\n",
        "`equals` will have shape `(64, 64)`, try it yourself. What it's doing is comparing the one element in each row of `top_class` with each element in `labels` which returns 64 True/False boolean values for each row."
      ]
    },
    {
      "metadata": {
        "id": "sE_GlQ5r34DU",
        "colab_type": "code",
        "colab": {}
      },
      "cell_type": "code",
      "source": [
        "equals = top_class == labels.view(*top_class.shape)"
      ],
      "execution_count": 0,
      "outputs": []
    },
    {
      "metadata": {
        "id": "EjQS7U8j34DX",
        "colab_type": "text"
      },
      "cell_type": "markdown",
      "source": [
        "Now we need to calculate the percentage of correct predictions. `equals` has binary values, either 0 or 1. This means that if we just sum up all the values and divide by the number of values, we get the percentage of correct predictions. This is the same operation as taking the mean, so we can get the accuracy with a call to `torch.mean`. If only it was that simple. If you try `torch.mean(equals)`, you'll get an error\n",
        "\n",
        "```\n",
        "RuntimeError: mean is not implemented for type torch.ByteTensor\n",
        "```\n",
        "\n",
        "This happens because `equals` has type `torch.ByteTensor` but `torch.mean` isn't implemented for tensors with that type. So we'll need to convert `equals` to a float tensor. Note that when we take `torch.mean` it returns a scalar tensor, to get the actual value as a float we'll need to do `accuracy.item()`."
      ]
    },
    {
      "metadata": {
        "id": "ixmEbBfB34DY",
        "colab_type": "code",
        "outputId": "74b887df-8016-40f6-b404-129cbfca925f",
        "colab": {
          "base_uri": "https://localhost:8080/",
          "height": 34
        }
      },
      "cell_type": "code",
      "source": [
        "accuracy = torch.mean(equals.type(torch.FloatTensor))\n",
        "print(f'Accuracy: {accuracy.item()*100}%')"
      ],
      "execution_count": 0,
      "outputs": [
        {
          "output_type": "stream",
          "text": [
            "Accuracy: 12.5%\n"
          ],
          "name": "stdout"
        }
      ]
    },
    {
      "metadata": {
        "id": "ccS5TmrO34Dc",
        "colab_type": "text"
      },
      "cell_type": "markdown",
      "source": [
        "The network is untrained so it's making random guesses and we should see an accuracy around 10%. Now let's train our network and include our validation pass so we can measure how well the network is performing on the test set. Since we're not updating our parameters in the validation pass, we can speed up our code by turning off gradients using `torch.no_grad()`:\n",
        "\n",
        "```python\n",
        "# turn off gradients\n",
        "with torch.no_grad():\n",
        "    # validation pass here\n",
        "    for images, labels in testloader:\n",
        "        ...\n",
        "```\n",
        "\n",
        ">**Exercise:** Implement the validation loop below and print out the total accuracy after the loop. You can largely copy and paste the code from above, but I suggest typing it in because writing it out yourself is essential for building the skill. In general you'll always learn more by typing it rather than copy-pasting. You should be able to get an accuracy above 80%."
      ]
    },
    {
      "metadata": {
        "id": "Oh11v4GH34Dd",
        "colab_type": "code",
        "outputId": "1f809026-4a54-4060-a646-8e2dab8b003e",
        "colab": {
          "base_uri": "https://localhost:8080/",
          "height": 1037
        }
      },
      "cell_type": "code",
      "source": [
        "model = Classifier()\n",
        "criterion = nn.NLLLoss()\n",
        "optimizer = optim.Adam(model.parameters(), lr=0.003)\n",
        "\n",
        "epochs = 30\n",
        "steps = 0\n",
        "\n",
        "train_losses, test_losses = [], []\n",
        "for e in range(epochs):\n",
        "    running_loss = 0\n",
        "    for images, labels in trainloader:\n",
        "        \n",
        "        optimizer.zero_grad()\n",
        "        \n",
        "        log_ps = model(images)\n",
        "        loss = criterion(log_ps, labels)\n",
        "        loss.backward()\n",
        "        optimizer.step()\n",
        "        \n",
        "        running_loss += loss.item()\n",
        "        \n",
        "    else:\n",
        "      test_loss = 0\n",
        "      accuracy = 0\n",
        "        ## TODO: Implement the validation pass and print out the validation accuracy\n",
        "      with torch.no_grad():\n",
        "        for images, labels in testloader:\n",
        "          log_ps = model(images)\n",
        "          test_loss += criterion(log_ps, labels)\n",
        "          ps = torch.exp(log_ps)\n",
        "          top_p, top_class = ps.topk(1, dim=1)\n",
        "          equals = top_class == labels.view(*top_class.shape)\n",
        "          accuracy = torch.mean(equals.type(torch.FloatTensor))\n",
        "            \n",
        "        train_losses.append(running_loss/len(trainloader))\n",
        "        test_losses.append(test_loss/len(testloader))\n",
        "        \n",
        "        \n",
        "        print(\"Epoch: {}/{}..\".format(e + 1, epochs),\n",
        "             \"Training Loss: {:.3f}\".format(running_loss/len(train_losses)),\n",
        "             \"Test Loss: {:.3f}\" .format(test_loss/len(test_losses)),\n",
        "             \"Test Accuracy: {:.3f}\".format(accuracy/len(test_losses)))\n",
        "        print(f'Accuracy: {accuracy.item()*100}%')"
      ],
      "execution_count": 0,
      "outputs": [
        {
          "output_type": "stream",
          "text": [
            "Epoch: 1/30.. Training Loss: 483.664 Test Loss: 68.111 Test Accuracy: 0.875\n",
            "Accuracy: 87.5%\n",
            "Epoch: 2/30.. Training Loss: 182.611 Test Loss: 32.751 Test Accuracy: 0.406\n",
            "Accuracy: 81.25%\n",
            "Epoch: 3/30.. Training Loss: 111.384 Test Loss: 20.957 Test Accuracy: 0.292\n",
            "Accuracy: 87.5%\n",
            "Epoch: 4/30.. Training Loss: 78.094 Test Loss: 15.446 Test Accuracy: 0.188\n",
            "Accuracy: 75.0%\n",
            "Epoch: 5/30.. Training Loss: 59.435 Test Loss: 11.856 Test Accuracy: 0.188\n",
            "Accuracy: 93.75%\n",
            "Epoch: 6/30.. Training Loss: 47.217 Test Loss: 9.794 Test Accuracy: 0.146\n",
            "Accuracy: 87.5%\n",
            "Epoch: 7/30.. Training Loss: 38.640 Test Loss: 8.972 Test Accuracy: 0.134\n",
            "Accuracy: 93.75%\n",
            "Epoch: 8/30.. Training Loss: 33.713 Test Loss: 7.215 Test Accuracy: 0.109\n",
            "Accuracy: 87.5%\n",
            "Epoch: 9/30.. Training Loss: 28.675 Test Loss: 6.252 Test Accuracy: 0.104\n",
            "Accuracy: 93.75%\n",
            "Epoch: 10/30.. Training Loss: 24.831 Test Loss: 5.721 Test Accuracy: 0.081\n",
            "Accuracy: 81.25%\n",
            "Epoch: 11/30.. Training Loss: 22.489 Test Loss: 5.355 Test Accuracy: 0.080\n",
            "Accuracy: 87.5%\n",
            "Epoch: 12/30.. Training Loss: 19.749 Test Loss: 5.144 Test Accuracy: 0.073\n",
            "Accuracy: 87.5%\n",
            "Epoch: 13/30.. Training Loss: 17.573 Test Loss: 4.511 Test Accuracy: 0.067\n",
            "Accuracy: 87.5%\n",
            "Epoch: 14/30.. Training Loss: 16.301 Test Loss: 4.266 Test Accuracy: 0.067\n",
            "Accuracy: 93.75%\n",
            "Epoch: 15/30.. Training Loss: 14.906 Test Loss: 3.744 Test Accuracy: 0.062\n",
            "Accuracy: 93.75%\n",
            "Epoch: 16/30.. Training Loss: 13.416 Test Loss: 4.004 Test Accuracy: 0.059\n",
            "Accuracy: 93.75%\n",
            "Epoch: 17/30.. Training Loss: 12.780 Test Loss: 3.447 Test Accuracy: 0.048\n",
            "Accuracy: 81.25%\n",
            "Epoch: 18/30.. Training Loss: 11.768 Test Loss: 3.412 Test Accuracy: 0.056\n",
            "Accuracy: 100.0%\n",
            "Epoch: 19/30.. Training Loss: 10.872 Test Loss: 3.209 Test Accuracy: 0.046\n",
            "Accuracy: 87.5%\n",
            "Epoch: 20/30.. Training Loss: 10.011 Test Loss: 2.966 Test Accuracy: 0.047\n",
            "Accuracy: 93.75%\n",
            "Epoch: 21/30.. Training Loss: 9.478 Test Loss: 2.738 Test Accuracy: 0.045\n",
            "Accuracy: 93.75%\n",
            "Epoch: 22/30.. Training Loss: 8.861 Test Loss: 2.775 Test Accuracy: 0.037\n",
            "Accuracy: 81.25%\n",
            "Epoch: 23/30.. Training Loss: 8.171 Test Loss: 2.966 Test Accuracy: 0.035\n",
            "Accuracy: 81.25%\n",
            "Epoch: 24/30.. Training Loss: 8.208 Test Loss: 2.734 Test Accuracy: 0.036\n",
            "Accuracy: 87.5%\n",
            "Epoch: 25/30.. Training Loss: 7.403 Test Loss: 2.789 Test Accuracy: 0.032\n",
            "Accuracy: 81.25%\n",
            "Epoch: 26/30.. Training Loss: 7.038 Test Loss: 2.567 Test Accuracy: 0.031\n",
            "Accuracy: 81.25%\n",
            "Epoch: 27/30.. Training Loss: 6.721 Test Loss: 2.384 Test Accuracy: 0.032\n",
            "Accuracy: 87.5%\n",
            "Epoch: 28/30.. Training Loss: 6.219 Test Loss: 2.676 Test Accuracy: 0.033\n",
            "Accuracy: 93.75%\n",
            "Epoch: 29/30.. Training Loss: 6.068 Test Loss: 2.546 Test Accuracy: 0.030\n",
            "Accuracy: 87.5%\n",
            "Epoch: 30/30.. Training Loss: 5.638 Test Loss: 2.388 Test Accuracy: 0.029\n",
            "Accuracy: 87.5%\n"
          ],
          "name": "stdout"
        }
      ]
    },
    {
      "metadata": {
        "id": "wI9Mh75834Dh",
        "colab_type": "text"
      },
      "cell_type": "markdown",
      "source": [
        "## Overfitting\n",
        "\n",
        "If we look at the training and validation losses as we train the network, we can see a phenomenon known as overfitting.\n",
        "\n",
        "<img src='https://github.com/udacity/deep-learning-v2-pytorch/blob/master/intro-to-pytorch/assets/overfitting.png?raw=1' width=450px>\n",
        "\n",
        "The network learns the training set better and better, resulting in lower training losses. However, it starts having problems generalizing to data outside the training set leading to the validation loss increasing. The ultimate goal of any deep learning model is to make predictions on new data, so we should strive to get the lowest validation loss possible. One option is to use the version of the model with the lowest validation loss, here the one around 8-10 training epochs. This strategy is called *early-stopping*. In practice, you'd save the model frequently as you're training then later choose the model with the lowest validation loss.\n",
        "\n",
        "The most common method to reduce overfitting (outside of early-stopping) is *dropout*, where we randomly drop input units. This forces the network to share information between weights, increasing it's ability to generalize to new data. Adding dropout in PyTorch is straightforward using the [`nn.Dropout`](https://pytorch.org/docs/stable/nn.html#torch.nn.Dropout) module.\n",
        "\n",
        "```python\n",
        "class Classifier(nn.Module):\n",
        "    def __init__(self):\n",
        "        super().__init__()\n",
        "        self.fc1 = nn.Linear(784, 256)\n",
        "        self.fc2 = nn.Linear(256, 128)\n",
        "        self.fc3 = nn.Linear(128, 64)\n",
        "        self.fc4 = nn.Linear(64, 10)\n",
        "        \n",
        "        # Dropout module with 0.2 drop probability\n",
        "        self.dropout = nn.Dropout(p=0.2)\n",
        "        \n",
        "    def forward(self, x):\n",
        "        # make sure input tensor is flattened\n",
        "        x = x.view(x.shape[0], -1)\n",
        "        \n",
        "        # Now with dropout\n",
        "        x = self.dropout(F.relu(self.fc1(x)))\n",
        "        x = self.dropout(F.relu(self.fc2(x)))\n",
        "        x = self.dropout(F.relu(self.fc3(x)))\n",
        "        \n",
        "        # output so no dropout here\n",
        "        x = F.log_softmax(self.fc4(x), dim=1)\n",
        "        \n",
        "        return x\n",
        "```\n",
        "\n",
        "During training we want to use dropout to prevent overfitting, but during inference we want to use the entire network. So, we need to turn off dropout during validation, testing, and whenever we're using the network to make predictions. To do this, you use `model.eval()`. This sets the model to evaluation mode where the dropout probability is 0. You can turn dropout back on by setting the model to train mode with `model.train()`. In general, the pattern for the validation loop will look like this, where you turn off gradients, set the model to evaluation mode, calculate the validation loss and metric, then set the model back to train mode.\n",
        "\n",
        "```python\n",
        "# turn off gradients\n",
        "with torch.no_grad():\n",
        "    \n",
        "    # set model to evaluation mode\n",
        "    model.eval()\n",
        "    \n",
        "    # validation pass here\n",
        "    for images, labels in testloader:\n",
        "        ...\n",
        "\n",
        "# set model back to train mode\n",
        "model.train()\n",
        "```"
      ]
    },
    {
      "metadata": {
        "id": "vdnlgJNP34Dj",
        "colab_type": "text"
      },
      "cell_type": "markdown",
      "source": [
        "> **Exercise:** Add dropout to your model and train it on Fashion-MNIST again. See if you can get a lower validation loss or higher accuracy."
      ]
    },
    {
      "metadata": {
        "id": "2oleLNTE34Dj",
        "colab_type": "code",
        "colab": {}
      },
      "cell_type": "code",
      "source": [
        "## TODO: Define your model with dropout added\n",
        "class Classifier(nn.Module):\n",
        "  def __init__(self):\n",
        "    super().__init__()\n",
        "    self.fc1 = nn.Linear(784, 256)\n",
        "    self.fc2 = nn.Linear(256, 128)\n",
        "    self.fc3 = nn.Linear(128, 64)\n",
        "    self.fc4 = nn.Linear(64, 10)\n",
        "    \n",
        "  def forward(self, x):\n",
        "    # make sure input tensor is flattened \n",
        "    x = x.view(x.shape[0], -1)\n",
        "    \n",
        "    x = F.dropout(F.relu(self.fc1(x)))\n",
        "    x = F.dropout(F.relu(self.fc2(x)))\n",
        "    x = F.dropout(F.relu(self.fc3(x)))\n",
        "    \n",
        "    x = F.log_softmax(self.fc4(x), dim=1)\n",
        "    return x "
      ],
      "execution_count": 0,
      "outputs": []
    },
    {
      "metadata": {
        "id": "57VrGeBxcp7v",
        "colab_type": "code",
        "outputId": "899224b6-89ca-463d-8508-dc2f393ada22",
        "colab": {
          "base_uri": "https://localhost:8080/",
          "height": 1037
        }
      },
      "cell_type": "code",
      "source": [
        "model = Classifier()\n",
        "criterion = nn.NLLLoss()\n",
        "optimizer = optim.Adam(model.parameters(), lr=0.003)\n",
        "\n",
        "epochs = 30\n",
        "steps = 0\n",
        "\n",
        "train_losses, test_losses = [], []\n",
        "for e in range(epochs):\n",
        "    running_loss = 0\n",
        "    for images, labels in trainloader:\n",
        "        \n",
        "        optimizer.zero_grad()\n",
        "        \n",
        "        log_ps = model(images)\n",
        "        loss = criterion(log_ps, labels)\n",
        "        loss.backward()\n",
        "        optimizer.step()\n",
        "        \n",
        "        running_loss += loss.item()\n",
        "        \n",
        "    else:\n",
        "      test_loss = 0\n",
        "      accuracy = 0\n",
        "        ## TODO: Implement the validation pass and print out the validation accuracy\n",
        "      with torch.no_grad():\n",
        "        # Set model to evaluation mode\n",
        "        model.eval()\n",
        "        for images, labels in testloader:\n",
        "          log_ps = model(images)\n",
        "          test_loss += criterion(log_ps, labels)\n",
        "          ps = torch.exp(log_ps)\n",
        "          top_p, top_class = ps.topk(1, dim=1)\n",
        "          equals = top_class == labels.view(*top_class.shape)\n",
        "          accuracy = torch.mean(equals.type(torch.FloatTensor))\n",
        "            \n",
        "        train_losses.append(running_loss/len(trainloader))\n",
        "        test_losses.append(test_loss/len(testloader))\n",
        "        \n",
        "        \n",
        "        print(\"Epoch: {}/{}..\".format(e + 1, epochs),\n",
        "             \"Training Loss: {:.3f}\".format(running_loss/len(train_losses)),\n",
        "             \"Test Loss: {:.3f}\" .format(test_loss/len(test_losses)),\n",
        "             \"Test Accuracy: {:.3f}\".format(accuracy/len(test_losses)))\n",
        "        print(f'Accuracy: {accuracy.item()*100}%')"
      ],
      "execution_count": 0,
      "outputs": [
        {
          "output_type": "stream",
          "text": [
            "Epoch: 1/30.. Training Loss: 482.649 Test Loss: 69.222 Test Accuracy: 0.812\n",
            "Accuracy: 81.25%\n",
            "Epoch: 2/30.. Training Loss: 182.338 Test Loss: 31.633 Test Accuracy: 0.438\n",
            "Accuracy: 87.5%\n",
            "Epoch: 3/30.. Training Loss: 111.336 Test Loss: 23.464 Test Accuracy: 0.292\n",
            "Accuracy: 87.5%\n",
            "Epoch: 4/30.. Training Loss: 78.445 Test Loss: 16.201 Test Accuracy: 0.250\n",
            "Accuracy: 100.0%\n",
            "Epoch: 5/30.. Training Loss: 59.455 Test Loss: 11.558 Test Accuracy: 0.162\n",
            "Accuracy: 81.25%\n",
            "Epoch: 6/30.. Training Loss: 47.111 Test Loss: 10.382 Test Accuracy: 0.135\n",
            "Accuracy: 81.25%\n",
            "Epoch: 7/30.. Training Loss: 39.169 Test Loss: 7.984 Test Accuracy: 0.143\n",
            "Accuracy: 100.0%\n",
            "Epoch: 8/30.. Training Loss: 33.191 Test Loss: 7.280 Test Accuracy: 0.117\n",
            "Accuracy: 93.75%\n",
            "Epoch: 9/30.. Training Loss: 28.780 Test Loss: 6.505 Test Accuracy: 0.097\n",
            "Accuracy: 87.5%\n",
            "Epoch: 10/30.. Training Loss: 25.074 Test Loss: 5.862 Test Accuracy: 0.087\n",
            "Accuracy: 87.5%\n",
            "Epoch: 11/30.. Training Loss: 22.124 Test Loss: 5.428 Test Accuracy: 0.080\n",
            "Accuracy: 87.5%\n",
            "Epoch: 12/30.. Training Loss: 19.873 Test Loss: 4.685 Test Accuracy: 0.083\n",
            "Accuracy: 100.0%\n",
            "Epoch: 13/30.. Training Loss: 18.179 Test Loss: 4.413 Test Accuracy: 0.062\n",
            "Accuracy: 81.25%\n",
            "Epoch: 14/30.. Training Loss: 16.183 Test Loss: 4.446 Test Accuracy: 0.067\n",
            "Accuracy: 93.75%\n",
            "Epoch: 15/30.. Training Loss: 14.752 Test Loss: 3.751 Test Accuracy: 0.062\n",
            "Accuracy: 93.75%\n",
            "Epoch: 16/30.. Training Loss: 13.615 Test Loss: 3.610 Test Accuracy: 0.059\n",
            "Accuracy: 93.75%\n",
            "Epoch: 17/30.. Training Loss: 12.480 Test Loss: 3.762 Test Accuracy: 0.048\n",
            "Accuracy: 81.25%\n",
            "Epoch: 18/30.. Training Loss: 11.681 Test Loss: 3.368 Test Accuracy: 0.045\n",
            "Accuracy: 81.25%\n",
            "Epoch: 19/30.. Training Loss: 10.881 Test Loss: 3.188 Test Accuracy: 0.053\n",
            "Accuracy: 100.0%\n",
            "Epoch: 20/30.. Training Loss: 10.026 Test Loss: 3.305 Test Accuracy: 0.041\n",
            "Accuracy: 81.25%\n",
            "Epoch: 21/30.. Training Loss: 9.338 Test Loss: 3.110 Test Accuracy: 0.042\n",
            "Accuracy: 87.5%\n",
            "Epoch: 22/30.. Training Loss: 8.768 Test Loss: 2.955 Test Accuracy: 0.040\n",
            "Accuracy: 87.5%\n",
            "Epoch: 23/30.. Training Loss: 8.608 Test Loss: 2.644 Test Accuracy: 0.035\n",
            "Accuracy: 81.25%\n",
            "Epoch: 24/30.. Training Loss: 7.847 Test Loss: 2.792 Test Accuracy: 0.039\n",
            "Accuracy: 93.75%\n",
            "Epoch: 25/30.. Training Loss: 7.467 Test Loss: 2.627 Test Accuracy: 0.038\n",
            "Accuracy: 93.75%\n",
            "Epoch: 26/30.. Training Loss: 6.917 Test Loss: 2.629 Test Accuracy: 0.036\n",
            "Accuracy: 93.75%\n",
            "Epoch: 27/30.. Training Loss: 6.732 Test Loss: 2.545 Test Accuracy: 0.030\n",
            "Accuracy: 81.25%\n",
            "Epoch: 28/30.. Training Loss: 6.488 Test Loss: 2.395 Test Accuracy: 0.029\n",
            "Accuracy: 81.25%\n",
            "Epoch: 29/30.. Training Loss: 6.019 Test Loss: 2.618 Test Accuracy: 0.024\n",
            "Accuracy: 68.75%\n",
            "Epoch: 30/30.. Training Loss: 5.711 Test Loss: 2.163 Test Accuracy: 0.029\n",
            "Accuracy: 87.5%\n"
          ],
          "name": "stdout"
        }
      ]
    },
    {
      "metadata": {
        "id": "KnZPn94F34Dp",
        "colab_type": "text"
      },
      "cell_type": "markdown",
      "source": [
        "## Inference\n",
        "\n",
        "Now that the model is trained, we can use it for inference. We've done this before, but now we need to remember to set the model in inference mode with `model.eval()`. You'll also want to turn off autograd with the `torch.no_grad()` context."
      ]
    },
    {
      "metadata": {
        "id": "E_7QYkhAsTOD",
        "colab_type": "code",
        "outputId": "6ee4a022-5214-48ba-f44a-2bcb31cc5741",
        "colab": {
          "base_uri": "https://localhost:8080/",
          "height": 136
        }
      },
      "cell_type": "code",
      "source": [
        "# Get helper.py file from github\n",
        "!git clone https://github.com/udacity/deep-learning-v2-pytorch.git"
      ],
      "execution_count": 0,
      "outputs": [
        {
          "output_type": "stream",
          "text": [
            "Cloning into 'deep-learning-v2-pytorch'...\n",
            "remote: Enumerating objects: 1, done.\u001b[K\n",
            "remote: Counting objects: 100% (1/1), done.\u001b[K\n",
            "remote: Total 789 (delta 0), reused 0 (delta 0), pack-reused 788\u001b[K\n",
            "Receiving objects: 100% (789/789), 125.94 MiB | 26.19 MiB/s, done.\n",
            "Resolving deltas: 100% (298/298), done.\n",
            "Checking out files: 100% (270/270), done.\n"
          ],
          "name": "stdout"
        }
      ]
    },
    {
      "metadata": {
        "id": "fQUSWWlqtFQZ",
        "colab_type": "code",
        "outputId": "8ff7440a-34a3-4251-e880-0289c5888bb2",
        "colab": {
          "base_uri": "https://localhost:8080/",
          "height": 34
        }
      },
      "cell_type": "code",
      "source": [
        "cd deep-learning-v2-pytorch/intro-to-pytorch/"
      ],
      "execution_count": 0,
      "outputs": [
        {
          "output_type": "stream",
          "text": [
            "/content/deep-learning-v2-pytorch/intro-to-pytorch\n"
          ],
          "name": "stdout"
        }
      ]
    },
    {
      "metadata": {
        "id": "Kta_z16o34Dr",
        "colab_type": "code",
        "outputId": "42a73410-f709-4b87-afd2-b3733c27f4b8",
        "colab": {
          "base_uri": "https://localhost:8080/",
          "height": 221
        }
      },
      "cell_type": "code",
      "source": [
        "# Import helper module (should be in the repo)\n",
        "import helper\n",
        "\n",
        "# Test out your network!\n",
        "\n",
        "model.eval()\n",
        "\n",
        "dataiter = iter(testloader)\n",
        "images, labels = dataiter.next()\n",
        "img = images[0]\n",
        "# Convert 2D image to 1D vector\n",
        "img = img.view(1, 784)\n",
        "\n",
        "# Calculate the class probabilities (softmax) for img\n",
        "with torch.no_grad():\n",
        "    output = model.forward(img)\n",
        "\n",
        "ps = torch.exp(output)\n",
        "\n",
        "# Plot the image and probabilities\n",
        "helper.view_classify(img.view(1, 28, 28), ps, version='Fashion')"
      ],
      "execution_count": 0,
      "outputs": [
        {
          "output_type": "display_data",
          "data": {
            "image/png": "[encoded data removed]",
            "text/plain": [
              "<matplotlib.figure.Figure at 0x7fc0d12b1278>"
            ]
          },
          "metadata": {
            "tags": []
          }
        }
      ]
    },
    {
      "metadata": {
        "id": "P2NUEe5p34Du",
        "colab_type": "text"
      },
      "cell_type": "markdown",
      "source": [
        "## Next Up!\n",
        "\n",
        "In the next part, I'll show you how to save your trained models. In general, you won't want to train a model everytime you need it. Instead, you'll train once, save it, then load the model when you want to train more or use if for inference."
      ]
    }
  ]
}